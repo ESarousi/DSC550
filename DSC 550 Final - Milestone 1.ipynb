{
 "cells": [
  {
   "cell_type": "code",
   "execution_count": 1,
   "metadata": {},
   "outputs": [],
   "source": [
    "#Erez Sarousi\n",
    "#Professor Werner\n",
    "#DSC550 Data Mining\n",
    "#Bellevue University\n",
    "#4/23/2021"
   ]
  },
  {
   "cell_type": "code",
   "execution_count": 394,
   "metadata": {},
   "outputs": [
    {
     "name": "stdout",
     "output_type": "stream",
     "text": [
      "For this project, I will be a data scientist within Apple for a hypothetical scenario in which I will evaluate the overall response of reviews of a previous model of the iPhone from the dataset sourced from the Amazon website. Specifically, this will be iPhone 8, which came out in 2017.\n",
      "\n",
      "I will be finding out what features of the phones work and which ones do not. There are different aspects and columns, which make up this project. Some of these columns include the ASIN number, the review title, review body, the date, the helpful review counter and prices paid. My hope is that by thorough investigation, we can learn more about the phones.\n",
      "\n",
      "This would be helpful for the company because if we wanted to improve upon our products and improve customer satisfaction (to inevitably retain business and maximize profits), we would need to realize both what weâ€™re doing right (so we can continue doing so), and also what weâ€™re doing wrong, so we know how to allocate our research and development, and pool other resources so that we can fix it.\n",
      "\n",
      "This is a type of practice that saves money, increases customer service satisfaction, and protects brand loyalty. I honestly believe that this is something important to any company that cares about providing a responsible customer service experience, including Apple. Thank you.\n",
      "\n",
      "From the graphs, I learned that I can that we can trust the data because there is approximately 140 verified reviews when compared to about 5 unverified reviews. Also, it seems like there are generally positive reviews, with an apparent average ratings of around 4. However, in another graph, I found that the graphs do change from one number to another. This is helpful because it tells me which areas may need extra attention. Finally, we found a number of reviews by the different Item #.\n",
      "\n",
      "I learned a lot from this, and I'm excited to learn more!\n"
     ]
    }
   ],
   "source": [
    "#Explanation of project and graphs.\n",
    "M1 = open(\"Milestone1.txt\", \"r\")\n",
    "M1 = M1.read()\n",
    "print(M1)"
   ]
  },
  {
   "cell_type": "code",
   "execution_count": 351,
   "metadata": {},
   "outputs": [],
   "source": [
    "#Loading packages\n",
    "import datetime\n",
    "import matplotlib.pyplot as plt\n",
    "import numpy as np\n",
    "import pandas as pd\n",
    "import seaborn as sns\n",
    "import string"
   ]
  },
  {
   "cell_type": "code",
   "execution_count": 94,
   "metadata": {},
   "outputs": [],
   "source": [
    "#Loading dataframes.\n",
    "items = pd.read_csv('20191226-items.csv')\n",
    "reviews = pd.read_csv('20191226-reviews.csv')"
   ]
  },
  {
   "cell_type": "code",
   "execution_count": 95,
   "metadata": {
    "scrolled": true
   },
   "outputs": [
    {
     "data": {
      "text/html": [
       "<div>\n",
       "<style scoped>\n",
       "    .dataframe tbody tr th:only-of-type {\n",
       "        vertical-align: middle;\n",
       "    }\n",
       "\n",
       "    .dataframe tbody tr th {\n",
       "        vertical-align: top;\n",
       "    }\n",
       "\n",
       "    .dataframe thead th {\n",
       "        text-align: right;\n",
       "    }\n",
       "</style>\n",
       "<table border=\"1\" class=\"dataframe\">\n",
       "  <thead>\n",
       "    <tr style=\"text-align: right;\">\n",
       "      <th></th>\n",
       "      <th>asin</th>\n",
       "      <th>brand</th>\n",
       "      <th>title</th>\n",
       "      <th>url</th>\n",
       "      <th>image</th>\n",
       "      <th>rating</th>\n",
       "      <th>reviewUrl</th>\n",
       "      <th>totalReviews</th>\n",
       "      <th>price</th>\n",
       "      <th>originalPrice</th>\n",
       "    </tr>\n",
       "  </thead>\n",
       "  <tbody>\n",
       "    <tr>\n",
       "      <th>0</th>\n",
       "      <td>B0000SX2UC</td>\n",
       "      <td>NaN</td>\n",
       "      <td>Dual-Band / Tri-Mode Sprint PCS Phone w/ Voice...</td>\n",
       "      <td>https://www.amazon.com/Dual-Band-Tri-Mode-Acti...</td>\n",
       "      <td>https://m.media-amazon.com/images/I/2143EBQ210...</td>\n",
       "      <td>3.0</td>\n",
       "      <td>https://www.amazon.com/product-reviews/B0000SX2UC</td>\n",
       "      <td>14</td>\n",
       "      <td>0.00</td>\n",
       "      <td>0.0</td>\n",
       "    </tr>\n",
       "    <tr>\n",
       "      <th>1</th>\n",
       "      <td>B0009N5L7K</td>\n",
       "      <td>Motorola</td>\n",
       "      <td>Motorola I265 phone</td>\n",
       "      <td>https://www.amazon.com/Motorola-i265-I265-phon...</td>\n",
       "      <td>https://m.media-amazon.com/images/I/419WBAVDAR...</td>\n",
       "      <td>3.0</td>\n",
       "      <td>https://www.amazon.com/product-reviews/B0009N5L7K</td>\n",
       "      <td>7</td>\n",
       "      <td>49.95</td>\n",
       "      <td>0.0</td>\n",
       "    </tr>\n",
       "    <tr>\n",
       "      <th>2</th>\n",
       "      <td>B000SKTZ0S</td>\n",
       "      <td>Motorola</td>\n",
       "      <td>MOTOROLA C168i AT&amp;T CINGULAR PREPAID GOPHONE C...</td>\n",
       "      <td>https://www.amazon.com/MOTOROLA-C168i-CINGULAR...</td>\n",
       "      <td>https://m.media-amazon.com/images/I/71b+q3ydkI...</td>\n",
       "      <td>2.7</td>\n",
       "      <td>https://www.amazon.com/product-reviews/B000SKTZ0S</td>\n",
       "      <td>22</td>\n",
       "      <td>99.99</td>\n",
       "      <td>0.0</td>\n",
       "    </tr>\n",
       "    <tr>\n",
       "      <th>3</th>\n",
       "      <td>B001AO4OUC</td>\n",
       "      <td>Motorola</td>\n",
       "      <td>Motorola i335 Cell Phone Boost Mobile</td>\n",
       "      <td>https://www.amazon.com/Motorola-i335-Phone-Boo...</td>\n",
       "      <td>https://m.media-amazon.com/images/I/710UO8gdT+...</td>\n",
       "      <td>3.3</td>\n",
       "      <td>https://www.amazon.com/product-reviews/B001AO4OUC</td>\n",
       "      <td>21</td>\n",
       "      <td>0.00</td>\n",
       "      <td>0.0</td>\n",
       "    </tr>\n",
       "    <tr>\n",
       "      <th>4</th>\n",
       "      <td>B001DCJAJG</td>\n",
       "      <td>Motorola</td>\n",
       "      <td>Motorola V365 no contract cellular phone AT&amp;T</td>\n",
       "      <td>https://www.amazon.com/Motorola-V365-contract-...</td>\n",
       "      <td>https://m.media-amazon.com/images/I/61LYNCVrrK...</td>\n",
       "      <td>3.1</td>\n",
       "      <td>https://www.amazon.com/product-reviews/B001DCJAJG</td>\n",
       "      <td>12</td>\n",
       "      <td>149.99</td>\n",
       "      <td>0.0</td>\n",
       "    </tr>\n",
       "  </tbody>\n",
       "</table>\n",
       "</div>"
      ],
      "text/plain": [
       "         asin     brand                                              title  \\\n",
       "0  B0000SX2UC       NaN  Dual-Band / Tri-Mode Sprint PCS Phone w/ Voice...   \n",
       "1  B0009N5L7K  Motorola                                Motorola I265 phone   \n",
       "2  B000SKTZ0S  Motorola  MOTOROLA C168i AT&T CINGULAR PREPAID GOPHONE C...   \n",
       "3  B001AO4OUC  Motorola              Motorola i335 Cell Phone Boost Mobile   \n",
       "4  B001DCJAJG  Motorola      Motorola V365 no contract cellular phone AT&T   \n",
       "\n",
       "                                                 url  \\\n",
       "0  https://www.amazon.com/Dual-Band-Tri-Mode-Acti...   \n",
       "1  https://www.amazon.com/Motorola-i265-I265-phon...   \n",
       "2  https://www.amazon.com/MOTOROLA-C168i-CINGULAR...   \n",
       "3  https://www.amazon.com/Motorola-i335-Phone-Boo...   \n",
       "4  https://www.amazon.com/Motorola-V365-contract-...   \n",
       "\n",
       "                                               image  rating  \\\n",
       "0  https://m.media-amazon.com/images/I/2143EBQ210...     3.0   \n",
       "1  https://m.media-amazon.com/images/I/419WBAVDAR...     3.0   \n",
       "2  https://m.media-amazon.com/images/I/71b+q3ydkI...     2.7   \n",
       "3  https://m.media-amazon.com/images/I/710UO8gdT+...     3.3   \n",
       "4  https://m.media-amazon.com/images/I/61LYNCVrrK...     3.1   \n",
       "\n",
       "                                           reviewUrl  totalReviews   price  \\\n",
       "0  https://www.amazon.com/product-reviews/B0000SX2UC            14    0.00   \n",
       "1  https://www.amazon.com/product-reviews/B0009N5L7K             7   49.95   \n",
       "2  https://www.amazon.com/product-reviews/B000SKTZ0S            22   99.99   \n",
       "3  https://www.amazon.com/product-reviews/B001AO4OUC            21    0.00   \n",
       "4  https://www.amazon.com/product-reviews/B001DCJAJG            12  149.99   \n",
       "\n",
       "   originalPrice  \n",
       "0            0.0  \n",
       "1            0.0  \n",
       "2            0.0  \n",
       "3            0.0  \n",
       "4            0.0  "
      ]
     },
     "execution_count": 95,
     "metadata": {},
     "output_type": "execute_result"
    }
   ],
   "source": [
    "#examining the first dataframe.\n",
    "items.head()"
   ]
  },
  {
   "cell_type": "code",
   "execution_count": 96,
   "metadata": {},
   "outputs": [
    {
     "data": {
      "text/html": [
       "<div>\n",
       "<style scoped>\n",
       "    .dataframe tbody tr th:only-of-type {\n",
       "        vertical-align: middle;\n",
       "    }\n",
       "\n",
       "    .dataframe tbody tr th {\n",
       "        vertical-align: top;\n",
       "    }\n",
       "\n",
       "    .dataframe thead th {\n",
       "        text-align: right;\n",
       "    }\n",
       "</style>\n",
       "<table border=\"1\" class=\"dataframe\">\n",
       "  <thead>\n",
       "    <tr style=\"text-align: right;\">\n",
       "      <th></th>\n",
       "      <th>asin</th>\n",
       "      <th>name</th>\n",
       "      <th>rating</th>\n",
       "      <th>date</th>\n",
       "      <th>verified</th>\n",
       "      <th>title</th>\n",
       "      <th>body</th>\n",
       "      <th>helpfulVotes</th>\n",
       "    </tr>\n",
       "  </thead>\n",
       "  <tbody>\n",
       "    <tr>\n",
       "      <th>0</th>\n",
       "      <td>B0000SX2UC</td>\n",
       "      <td>Janet</td>\n",
       "      <td>3</td>\n",
       "      <td>October 11, 2005</td>\n",
       "      <td>False</td>\n",
       "      <td>Def not best, but not worst</td>\n",
       "      <td>I had the Samsung A600 for awhile which is abs...</td>\n",
       "      <td>1.0</td>\n",
       "    </tr>\n",
       "    <tr>\n",
       "      <th>1</th>\n",
       "      <td>B0000SX2UC</td>\n",
       "      <td>Luke Wyatt</td>\n",
       "      <td>1</td>\n",
       "      <td>January 7, 2004</td>\n",
       "      <td>False</td>\n",
       "      <td>Text Messaging Doesn't Work</td>\n",
       "      <td>Due to a software issue between Nokia and Spri...</td>\n",
       "      <td>17.0</td>\n",
       "    </tr>\n",
       "    <tr>\n",
       "      <th>2</th>\n",
       "      <td>B0000SX2UC</td>\n",
       "      <td>Brooke</td>\n",
       "      <td>5</td>\n",
       "      <td>December 30, 2003</td>\n",
       "      <td>False</td>\n",
       "      <td>Love This Phone</td>\n",
       "      <td>This is a great, reliable phone. I also purcha...</td>\n",
       "      <td>5.0</td>\n",
       "    </tr>\n",
       "    <tr>\n",
       "      <th>3</th>\n",
       "      <td>B0000SX2UC</td>\n",
       "      <td>amy m. teague</td>\n",
       "      <td>3</td>\n",
       "      <td>March 18, 2004</td>\n",
       "      <td>False</td>\n",
       "      <td>Love the Phone, BUT...!</td>\n",
       "      <td>I love the phone and all, because I really did...</td>\n",
       "      <td>1.0</td>\n",
       "    </tr>\n",
       "    <tr>\n",
       "      <th>4</th>\n",
       "      <td>B0000SX2UC</td>\n",
       "      <td>tristazbimmer</td>\n",
       "      <td>4</td>\n",
       "      <td>August 28, 2005</td>\n",
       "      <td>False</td>\n",
       "      <td>Great phone service and options, lousy case!</td>\n",
       "      <td>The phone has been great for every purpose it ...</td>\n",
       "      <td>1.0</td>\n",
       "    </tr>\n",
       "  </tbody>\n",
       "</table>\n",
       "</div>"
      ],
      "text/plain": [
       "         asin           name  rating               date  verified  \\\n",
       "0  B0000SX2UC          Janet       3   October 11, 2005     False   \n",
       "1  B0000SX2UC     Luke Wyatt       1    January 7, 2004     False   \n",
       "2  B0000SX2UC         Brooke       5  December 30, 2003     False   \n",
       "3  B0000SX2UC  amy m. teague       3     March 18, 2004     False   \n",
       "4  B0000SX2UC  tristazbimmer       4    August 28, 2005     False   \n",
       "\n",
       "                                          title  \\\n",
       "0                   Def not best, but not worst   \n",
       "1                   Text Messaging Doesn't Work   \n",
       "2                               Love This Phone   \n",
       "3                       Love the Phone, BUT...!   \n",
       "4  Great phone service and options, lousy case!   \n",
       "\n",
       "                                                body  helpfulVotes  \n",
       "0  I had the Samsung A600 for awhile which is abs...           1.0  \n",
       "1  Due to a software issue between Nokia and Spri...          17.0  \n",
       "2  This is a great, reliable phone. I also purcha...           5.0  \n",
       "3  I love the phone and all, because I really did...           1.0  \n",
       "4  The phone has been great for every purpose it ...           1.0  "
      ]
     },
     "execution_count": 96,
     "metadata": {},
     "output_type": "execute_result"
    }
   ],
   "source": [
    "#examining the second dataframe.\n",
    "reviews.head()"
   ]
  },
  {
   "cell_type": "code",
   "execution_count": 277,
   "metadata": {},
   "outputs": [],
   "source": [
    "#finding all Apple entries within the first df\n",
    "AP = items['title'].str.lower().str.find('iphone 8')!=-1"
   ]
  },
  {
   "cell_type": "code",
   "execution_count": 278,
   "metadata": {},
   "outputs": [
    {
     "data": {
      "text/plain": [
       "9"
      ]
     },
     "execution_count": 278,
     "metadata": {},
     "output_type": "execute_result"
    }
   ],
   "source": [
    "#Seeing how many matches exist.\n",
    "AP.sum()"
   ]
  },
  {
   "cell_type": "code",
   "execution_count": 279,
   "metadata": {},
   "outputs": [],
   "source": [
    "#creating a new df based on the search.\n",
    "items_df = items.loc[AP]"
   ]
  },
  {
   "cell_type": "code",
   "execution_count": 280,
   "metadata": {},
   "outputs": [
    {
     "data": {
      "text/plain": [
       "306    https://www.amazon.com/Apple-iPhone-Unlocked-Smartphone-Refurbished/dp/B076KC34PM\n",
       "311                 https://www.amazon.com/Apple-iPhone-GSM-Unlocked-256GB/dp/B07753NSQZ\n",
       "313          https://www.amazon.com/Apple-iPhone-Unlocked-Gray-Refurbished/dp/B07755LZ67\n",
       "314         https://www.amazon.com/Apple-iPhone-Fully-Unlocked-Refurbished/dp/B07756QYST\n",
       "315                https://www.amazon.com/Apple-iPhone-Fully-Unlocked-64GB/dp/B0775717ZP\n",
       "316                  https://www.amazon.com/Apple-iPhone-GSM-Unlocked-64GB/dp/B077578VXH\n",
       "388                  https://www.amazon.com/Apple-iPhone-Plus-Verizon-64GB/dp/B07CGMQDXW\n",
       "420                https://www.amazon.com/Apple-iPhone-AT-64GB-Refurbished/dp/B07G7FG26S\n",
       "459         https://www.amazon.com/Apple-iPhone-a1905-Unlocked-Refurbished/dp/B07HKQ61NV\n",
       "Name: url, dtype: object"
      ]
     },
     "execution_count": 280,
     "metadata": {},
     "output_type": "execute_result"
    }
   ],
   "source": [
    "#Seeing the list of different options.\n",
    "pd.set_option('display.max_colwidth', None)\n",
    "items_df['url']"
   ]
  },
  {
   "cell_type": "code",
   "execution_count": 376,
   "metadata": {},
   "outputs": [],
   "source": [
    "#merging the two dataframes based on the asin.\n",
    "apple = pd.merge(items_df,reviews, on='asin')\n",
    "#Dropping nan values.\n",
    "apple = apple.dropna()"
   ]
  },
  {
   "cell_type": "code",
   "execution_count": 377,
   "metadata": {},
   "outputs": [
    {
     "data": {
      "text/html": [
       "<div>\n",
       "<style scoped>\n",
       "    .dataframe tbody tr th:only-of-type {\n",
       "        vertical-align: middle;\n",
       "    }\n",
       "\n",
       "    .dataframe tbody tr th {\n",
       "        vertical-align: top;\n",
       "    }\n",
       "\n",
       "    .dataframe thead th {\n",
       "        text-align: right;\n",
       "    }\n",
       "</style>\n",
       "<table border=\"1\" class=\"dataframe\">\n",
       "  <thead>\n",
       "    <tr style=\"text-align: right;\">\n",
       "      <th></th>\n",
       "      <th>asin</th>\n",
       "      <th>brand</th>\n",
       "      <th>title_x</th>\n",
       "      <th>url</th>\n",
       "      <th>image</th>\n",
       "      <th>rating_x</th>\n",
       "      <th>reviewUrl</th>\n",
       "      <th>totalReviews</th>\n",
       "      <th>price</th>\n",
       "      <th>originalPrice</th>\n",
       "      <th>name</th>\n",
       "      <th>rating_y</th>\n",
       "      <th>date</th>\n",
       "      <th>verified</th>\n",
       "      <th>title_y</th>\n",
       "      <th>body</th>\n",
       "      <th>helpfulVotes</th>\n",
       "    </tr>\n",
       "  </thead>\n",
       "  <tbody>\n",
       "    <tr>\n",
       "      <th>0</th>\n",
       "      <td>B076KC34PM</td>\n",
       "      <td>Apple</td>\n",
       "      <td>Apple iPhone 8 64GB GSM Unlocked Smartphone, RED (Renewed)</td>\n",
       "      <td>https://www.amazon.com/Apple-iPhone-Unlocked-Smartphone-Refurbished/dp/B076KC34PM</td>\n",
       "      <td>https://m.media-amazon.com/images/I/61XjpQucvyL._AC_UY218_ML3_.jpg</td>\n",
       "      <td>4.1</td>\n",
       "      <td>https://www.amazon.com/product-reviews/B076KC34PM</td>\n",
       "      <td>26</td>\n",
       "      <td>334.98</td>\n",
       "      <td>499.99</td>\n",
       "      <td>Ray97</td>\n",
       "      <td>1</td>\n",
       "      <td>April 18, 2019</td>\n",
       "      <td>True</td>\n",
       "      <td>Broke down within 3-5 days</td>\n",
       "      <td>At first I had nice things too say about this phone but have after 3-5 days of use... not anymore. After some days of use I’ve noticed it started too randomly reboot on me when I would be doing the most random things such as switching from my Pandora app too my Snapchat app. Also not only does it reboot on me randomly but it does a reboot loop and it can go on anywhere from 5 mins - 30 minutes. I’ve tried several things after googling this issue too try and fix it myself and no good results, even giving it a factory reset/restore from iTunes app on my laptop didn’t work.</td>\n",
       "      <td>17.0</td>\n",
       "    </tr>\n",
       "    <tr>\n",
       "      <th>1</th>\n",
       "      <td>B076KC34PM</td>\n",
       "      <td>Apple</td>\n",
       "      <td>Apple iPhone 8 64GB GSM Unlocked Smartphone, RED (Renewed)</td>\n",
       "      <td>https://www.amazon.com/Apple-iPhone-Unlocked-Smartphone-Refurbished/dp/B076KC34PM</td>\n",
       "      <td>https://m.media-amazon.com/images/I/61XjpQucvyL._AC_UY218_ML3_.jpg</td>\n",
       "      <td>4.1</td>\n",
       "      <td>https://www.amazon.com/product-reviews/B076KC34PM</td>\n",
       "      <td>26</td>\n",
       "      <td>334.98</td>\n",
       "      <td>499.99</td>\n",
       "      <td>Blake</td>\n",
       "      <td>1</td>\n",
       "      <td>May 14, 2019</td>\n",
       "      <td>True</td>\n",
       "      <td>Phone didn’t work right.</td>\n",
       "      <td>The phone was defective. It would work as normal and then suddenly begin restarting itself. My LTE constantly went in and out and phone said no service. Switched to Verizon thinking maybe it was MetroPCS. Nope. The phone is messed up it isnt even really usable. Very frustrating....</td>\n",
       "      <td>7.0</td>\n",
       "    </tr>\n",
       "    <tr>\n",
       "      <th>2</th>\n",
       "      <td>B076KC34PM</td>\n",
       "      <td>Apple</td>\n",
       "      <td>Apple iPhone 8 64GB GSM Unlocked Smartphone, RED (Renewed)</td>\n",
       "      <td>https://www.amazon.com/Apple-iPhone-Unlocked-Smartphone-Refurbished/dp/B076KC34PM</td>\n",
       "      <td>https://m.media-amazon.com/images/I/61XjpQucvyL._AC_UY218_ML3_.jpg</td>\n",
       "      <td>4.1</td>\n",
       "      <td>https://www.amazon.com/product-reviews/B076KC34PM</td>\n",
       "      <td>26</td>\n",
       "      <td>334.98</td>\n",
       "      <td>499.99</td>\n",
       "      <td>María Gabriela Saponare</td>\n",
       "      <td>5</td>\n",
       "      <td>April 15, 2019</td>\n",
       "      <td>True</td>\n",
       "      <td>original</td>\n",
       "      <td>Works perfectly. Great conditions. It wasn't in the original package and didn't bring the earphones, but other than that, great deal!</td>\n",
       "      <td>7.0</td>\n",
       "    </tr>\n",
       "    <tr>\n",
       "      <th>3</th>\n",
       "      <td>B076KC34PM</td>\n",
       "      <td>Apple</td>\n",
       "      <td>Apple iPhone 8 64GB GSM Unlocked Smartphone, RED (Renewed)</td>\n",
       "      <td>https://www.amazon.com/Apple-iPhone-Unlocked-Smartphone-Refurbished/dp/B076KC34PM</td>\n",
       "      <td>https://m.media-amazon.com/images/I/61XjpQucvyL._AC_UY218_ML3_.jpg</td>\n",
       "      <td>4.1</td>\n",
       "      <td>https://www.amazon.com/product-reviews/B076KC34PM</td>\n",
       "      <td>26</td>\n",
       "      <td>334.98</td>\n",
       "      <td>499.99</td>\n",
       "      <td>laurakobold</td>\n",
       "      <td>1</td>\n",
       "      <td>February 24, 2019</td>\n",
       "      <td>True</td>\n",
       "      <td>Audio</td>\n",
       "      <td>The Iphone has problems with the audio</td>\n",
       "      <td>8.0</td>\n",
       "    </tr>\n",
       "    <tr>\n",
       "      <th>4</th>\n",
       "      <td>B076KC34PM</td>\n",
       "      <td>Apple</td>\n",
       "      <td>Apple iPhone 8 64GB GSM Unlocked Smartphone, RED (Renewed)</td>\n",
       "      <td>https://www.amazon.com/Apple-iPhone-Unlocked-Smartphone-Refurbished/dp/B076KC34PM</td>\n",
       "      <td>https://m.media-amazon.com/images/I/61XjpQucvyL._AC_UY218_ML3_.jpg</td>\n",
       "      <td>4.1</td>\n",
       "      <td>https://www.amazon.com/product-reviews/B076KC34PM</td>\n",
       "      <td>26</td>\n",
       "      <td>334.98</td>\n",
       "      <td>499.99</td>\n",
       "      <td>jessica</td>\n",
       "      <td>5</td>\n",
       "      <td>April 14, 2019</td>\n",
       "      <td>True</td>\n",
       "      <td>The best purchase ever!</td>\n",
       "      <td>Awesome product! Really saved a great sum of money! Does not come with headphones but the price is an absolute steal! The overall condition is like a new iPhone!</td>\n",
       "      <td>6.0</td>\n",
       "    </tr>\n",
       "  </tbody>\n",
       "</table>\n",
       "</div>"
      ],
      "text/plain": [
       "         asin  brand  \\\n",
       "0  B076KC34PM  Apple   \n",
       "1  B076KC34PM  Apple   \n",
       "2  B076KC34PM  Apple   \n",
       "3  B076KC34PM  Apple   \n",
       "4  B076KC34PM  Apple   \n",
       "\n",
       "                                                      title_x  \\\n",
       "0  Apple iPhone 8 64GB GSM Unlocked Smartphone, RED (Renewed)   \n",
       "1  Apple iPhone 8 64GB GSM Unlocked Smartphone, RED (Renewed)   \n",
       "2  Apple iPhone 8 64GB GSM Unlocked Smartphone, RED (Renewed)   \n",
       "3  Apple iPhone 8 64GB GSM Unlocked Smartphone, RED (Renewed)   \n",
       "4  Apple iPhone 8 64GB GSM Unlocked Smartphone, RED (Renewed)   \n",
       "\n",
       "                                                                                 url  \\\n",
       "0  https://www.amazon.com/Apple-iPhone-Unlocked-Smartphone-Refurbished/dp/B076KC34PM   \n",
       "1  https://www.amazon.com/Apple-iPhone-Unlocked-Smartphone-Refurbished/dp/B076KC34PM   \n",
       "2  https://www.amazon.com/Apple-iPhone-Unlocked-Smartphone-Refurbished/dp/B076KC34PM   \n",
       "3  https://www.amazon.com/Apple-iPhone-Unlocked-Smartphone-Refurbished/dp/B076KC34PM   \n",
       "4  https://www.amazon.com/Apple-iPhone-Unlocked-Smartphone-Refurbished/dp/B076KC34PM   \n",
       "\n",
       "                                                                image  \\\n",
       "0  https://m.media-amazon.com/images/I/61XjpQucvyL._AC_UY218_ML3_.jpg   \n",
       "1  https://m.media-amazon.com/images/I/61XjpQucvyL._AC_UY218_ML3_.jpg   \n",
       "2  https://m.media-amazon.com/images/I/61XjpQucvyL._AC_UY218_ML3_.jpg   \n",
       "3  https://m.media-amazon.com/images/I/61XjpQucvyL._AC_UY218_ML3_.jpg   \n",
       "4  https://m.media-amazon.com/images/I/61XjpQucvyL._AC_UY218_ML3_.jpg   \n",
       "\n",
       "   rating_x                                          reviewUrl  totalReviews  \\\n",
       "0       4.1  https://www.amazon.com/product-reviews/B076KC34PM            26   \n",
       "1       4.1  https://www.amazon.com/product-reviews/B076KC34PM            26   \n",
       "2       4.1  https://www.amazon.com/product-reviews/B076KC34PM            26   \n",
       "3       4.1  https://www.amazon.com/product-reviews/B076KC34PM            26   \n",
       "4       4.1  https://www.amazon.com/product-reviews/B076KC34PM            26   \n",
       "\n",
       "    price  originalPrice                     name  rating_y  \\\n",
       "0  334.98         499.99                    Ray97         1   \n",
       "1  334.98         499.99                    Blake         1   \n",
       "2  334.98         499.99  María Gabriela Saponare         5   \n",
       "3  334.98         499.99              laurakobold         1   \n",
       "4  334.98         499.99                  jessica         5   \n",
       "\n",
       "                date  verified                     title_y  \\\n",
       "0     April 18, 2019      True  Broke down within 3-5 days   \n",
       "1       May 14, 2019      True    Phone didn’t work right.   \n",
       "2     April 15, 2019      True                    original   \n",
       "3  February 24, 2019      True                       Audio   \n",
       "4     April 14, 2019      True     The best purchase ever!   \n",
       "\n",
       "                                                                                                                                                                                                                                                                                                                                                                                                                                                                                                                                                                                                body  \\\n",
       "0  At first I had nice things too say about this phone but have after 3-5 days of use... not anymore. After some days of use I’ve noticed it started too randomly reboot on me when I would be doing the most random things such as switching from my Pandora app too my Snapchat app. Also not only does it reboot on me randomly but it does a reboot loop and it can go on anywhere from 5 mins - 30 minutes. I’ve tried several things after googling this issue too try and fix it myself and no good results, even giving it a factory reset/restore from iTunes app on my laptop didn’t work.   \n",
       "1                                                                                                                                                                                                                                                                                                         The phone was defective. It would work as normal and then suddenly begin restarting itself. My LTE constantly went in and out and phone said no service. Switched to Verizon thinking maybe it was MetroPCS. Nope. The phone is messed up it isnt even really usable. Very frustrating....   \n",
       "2                                                                                                                                                                                                                                                                                                                                                                                                                                                              Works perfectly. Great conditions. It wasn't in the original package and didn't bring the earphones, but other than that, great deal!   \n",
       "3                                                                                                                                                                                                                                                                                                                                                                                                                                                                                                                                                             The Iphone has problems with the audio   \n",
       "4                                                                                                                                                                                                                                                                                                                                                                                                                                  Awesome product! Really saved a great sum of money! Does not come with headphones but the price is an absolute steal! The overall condition is like a new iPhone!   \n",
       "\n",
       "   helpfulVotes  \n",
       "0          17.0  \n",
       "1           7.0  \n",
       "2           7.0  \n",
       "3           8.0  \n",
       "4           6.0  "
      ]
     },
     "execution_count": 377,
     "metadata": {},
     "output_type": "execute_result"
    }
   ],
   "source": [
    "#Reviewing the new dataframe\n",
    "apple.head()"
   ]
  },
  {
   "cell_type": "code",
   "execution_count": 378,
   "metadata": {},
   "outputs": [],
   "source": [
    "#Deleting erroneous columns.\n",
    "del apple['image']\n",
    "del apple['url']\n",
    "del apple['reviewUrl']\n",
    "del apple['price']\n",
    "del apple['name']\n",
    "del apple['rating_x']"
   ]
  },
  {
   "cell_type": "code",
   "execution_count": 379,
   "metadata": {},
   "outputs": [
    {
     "data": {
      "text/html": [
       "<div>\n",
       "<style scoped>\n",
       "    .dataframe tbody tr th:only-of-type {\n",
       "        vertical-align: middle;\n",
       "    }\n",
       "\n",
       "    .dataframe tbody tr th {\n",
       "        vertical-align: top;\n",
       "    }\n",
       "\n",
       "    .dataframe thead th {\n",
       "        text-align: right;\n",
       "    }\n",
       "</style>\n",
       "<table border=\"1\" class=\"dataframe\">\n",
       "  <thead>\n",
       "    <tr style=\"text-align: right;\">\n",
       "      <th></th>\n",
       "      <th>Item #</th>\n",
       "      <th>Brand</th>\n",
       "      <th>Model</th>\n",
       "      <th>Reviews</th>\n",
       "      <th>Price</th>\n",
       "      <th>Rating</th>\n",
       "      <th>Date</th>\n",
       "      <th>Verified</th>\n",
       "      <th>Review Title</th>\n",
       "      <th>Review</th>\n",
       "      <th>Helpful</th>\n",
       "    </tr>\n",
       "  </thead>\n",
       "  <tbody>\n",
       "    <tr>\n",
       "      <th>319</th>\n",
       "      <td>B07HKQ61NV</td>\n",
       "      <td>Apple</td>\n",
       "      <td>Apple iPhone 8 a1905 64GB LTE GSM Unlocked (Renewed)</td>\n",
       "      <td>29</td>\n",
       "      <td>328.97</td>\n",
       "      <td>2</td>\n",
       "      <td>2019-11-24</td>\n",
       "      <td>True</td>\n",
       "      <td>trash</td>\n",
       "      <td>the mic on my doesent work.</td>\n",
       "      <td>1.0</td>\n",
       "    </tr>\n",
       "    <tr>\n",
       "      <th>231</th>\n",
       "      <td>B07756QYST</td>\n",
       "      <td>Apple</td>\n",
       "      <td>Apple iPhone 8, 64GB, Silver - Fully Unlocked (Renewed)</td>\n",
       "      <td>1</td>\n",
       "      <td>0.00</td>\n",
       "      <td>1</td>\n",
       "      <td>2018-07-11</td>\n",
       "      <td>True</td>\n",
       "      <td>Not really GSM Unlocked!</td>\n",
       "      <td>Was told by Customer Service there was no way to unlock the phone and that it was GSM unlocked as stated. I contacted Apple who checked the number and found it was still registered to AT&amp;T. I logged in and unlocked it from AT&amp;T but this was not GSM unlocked. It was an AT&amp;T phone. Hope the phone works better than Jem Jem's indifferent customer service.</td>\n",
       "      <td>90.0</td>\n",
       "    </tr>\n",
       "    <tr>\n",
       "      <th>103</th>\n",
       "      <td>B07755LZ67</td>\n",
       "      <td>Apple</td>\n",
       "      <td>Apple iPhone 8 Plus 64GB Unlocked GSM Phone - Space Gray (Renewed)</td>\n",
       "      <td>176</td>\n",
       "      <td>0.00</td>\n",
       "      <td>1</td>\n",
       "      <td>2019-03-07</td>\n",
       "      <td>True</td>\n",
       "      <td>Defective on arrival</td>\n",
       "      <td>Phone came with defective screen. A simple quality control test would have found this before being shipped. Now I'm without a phone for a week while I await a replacement.</td>\n",
       "      <td>7.0</td>\n",
       "    </tr>\n",
       "    <tr>\n",
       "      <th>234</th>\n",
       "      <td>B0775717ZP</td>\n",
       "      <td>Apple</td>\n",
       "      <td>Apple iPhone 8, 64GB, Gold - Fully Unlocked (Renewed)</td>\n",
       "      <td>1</td>\n",
       "      <td>0.00</td>\n",
       "      <td>5</td>\n",
       "      <td>2018-07-03</td>\n",
       "      <td>True</td>\n",
       "      <td>Good quality for being refurbished</td>\n",
       "      <td>Despite the basic packaging, I was quite impressed with the condition of the phone, it looked brand new without a single scratch, which was one of my main concerns, when purchasing a refurbished phone. It also came with nicely packaged; headphones, aux adapter cable, and a charger. What I like the most about this purchase, was the fact that it was SIM unlocked(read some reviews saying it wasn’t). I was able to insert my AT&amp;T SIM card and have it work immediately without any complications, I was able to call/text people within minutes of activating the phone. I’ve only had this phone for a week now and so far nothing seems to raise any red flags yet, I’ll update my review if anything changes.</td>\n",
       "      <td>309.0</td>\n",
       "    </tr>\n",
       "    <tr>\n",
       "      <th>53</th>\n",
       "      <td>B07753NSQZ</td>\n",
       "      <td>Apple</td>\n",
       "      <td>Apple iPhone 8, GSM Unlocked, 256GB - Space Gray (Renewed)</td>\n",
       "      <td>96</td>\n",
       "      <td>379.99</td>\n",
       "      <td>1</td>\n",
       "      <td>2019-08-17</td>\n",
       "      <td>True</td>\n",
       "      <td>No good</td>\n",
       "      <td>No good</td>\n",
       "      <td>1.0</td>\n",
       "    </tr>\n",
       "  </tbody>\n",
       "</table>\n",
       "</div>"
      ],
      "text/plain": [
       "         Item #  Brand  \\\n",
       "319  B07HKQ61NV  Apple   \n",
       "231  B07756QYST  Apple   \n",
       "103  B07755LZ67  Apple   \n",
       "234  B0775717ZP  Apple   \n",
       "53   B07753NSQZ  Apple   \n",
       "\n",
       "                                                                  Model  \\\n",
       "319                Apple iPhone 8 a1905 64GB LTE GSM Unlocked (Renewed)   \n",
       "231             Apple iPhone 8, 64GB, Silver - Fully Unlocked (Renewed)   \n",
       "103  Apple iPhone 8 Plus 64GB Unlocked GSM Phone - Space Gray (Renewed)   \n",
       "234               Apple iPhone 8, 64GB, Gold - Fully Unlocked (Renewed)   \n",
       "53           Apple iPhone 8, GSM Unlocked, 256GB - Space Gray (Renewed)   \n",
       "\n",
       "     Reviews   Price  Rating       Date  Verified  \\\n",
       "319       29  328.97       2 2019-11-24      True   \n",
       "231        1    0.00       1 2018-07-11      True   \n",
       "103      176    0.00       1 2019-03-07      True   \n",
       "234        1    0.00       5 2018-07-03      True   \n",
       "53        96  379.99       1 2019-08-17      True   \n",
       "\n",
       "                           Review Title  \\\n",
       "319                               trash   \n",
       "231            Not really GSM Unlocked!   \n",
       "103                Defective on arrival   \n",
       "234  Good quality for being refurbished   \n",
       "53                              No good   \n",
       "\n",
       "                                                                                                                                                                                                                                                                                                                                                                                                                                                                                                                                                                                                                                                                                                                           Review  \\\n",
       "319                                                                                                                                                                                                                                                                                                                                                                                                                                                                                                                                                                                                                                                                                                   the mic on my doesent work.   \n",
       "231                                                                                                                                                                                                                                                                                                                                                             Was told by Customer Service there was no way to unlock the phone and that it was GSM unlocked as stated. I contacted Apple who checked the number and found it was still registered to AT&T. I logged in and unlocked it from AT&T but this was not GSM unlocked. It was an AT&T phone. Hope the phone works better than Jem Jem's indifferent customer service.   \n",
       "103                                                                                                                                                                                                                                                                                                                                                                                                                                                                                                                                                   Phone came with defective screen. A simple quality control test would have found this before being shipped. Now I'm without a phone for a week while I await a replacement.   \n",
       "234  Despite the basic packaging, I was quite impressed with the condition of the phone, it looked brand new without a single scratch, which was one of my main concerns, when purchasing a refurbished phone. It also came with nicely packaged; headphones, aux adapter cable, and a charger. What I like the most about this purchase, was the fact that it was SIM unlocked(read some reviews saying it wasn’t). I was able to insert my AT&T SIM card and have it work immediately without any complications, I was able to call/text people within minutes of activating the phone. I’ve only had this phone for a week now and so far nothing seems to raise any red flags yet, I’ll update my review if anything changes.   \n",
       "53                                                                                                                                                                                                                                                                                                                                                                                                                                                                                                                                                                                                                                                                                                                        No good   \n",
       "\n",
       "     Helpful  \n",
       "319      1.0  \n",
       "231     90.0  \n",
       "103      7.0  \n",
       "234    309.0  \n",
       "53       1.0  "
      ]
     },
     "execution_count": 379,
     "metadata": {},
     "output_type": "execute_result"
    }
   ],
   "source": [
    "#Renaming columns.\n",
    "apple.columns = ['Item #', 'Brand', 'Model', 'Reviews', 'Price', 'Rating', 'Date', 'Verified', 'Review Title', 'Review',\n",
    "                 'Helpful']\n",
    "apple['Date'] = pd.to_datetime(apple['Date']) #Reformatting date/time format.\n",
    "apple.sample(n=5)"
   ]
  },
  {
   "cell_type": "code",
   "execution_count": 380,
   "metadata": {},
   "outputs": [
    {
     "data": {
      "text/html": [
       "<div>\n",
       "<style scoped>\n",
       "    .dataframe tbody tr th:only-of-type {\n",
       "        vertical-align: middle;\n",
       "    }\n",
       "\n",
       "    .dataframe tbody tr th {\n",
       "        vertical-align: top;\n",
       "    }\n",
       "\n",
       "    .dataframe thead th {\n",
       "        text-align: right;\n",
       "    }\n",
       "</style>\n",
       "<table border=\"1\" class=\"dataframe\">\n",
       "  <thead>\n",
       "    <tr style=\"text-align: right;\">\n",
       "      <th></th>\n",
       "      <th>Reviews</th>\n",
       "      <th>Price</th>\n",
       "      <th>Rating</th>\n",
       "      <th>Helpful</th>\n",
       "    </tr>\n",
       "  </thead>\n",
       "  <tbody>\n",
       "    <tr>\n",
       "      <th>count</th>\n",
       "      <td>146.000000</td>\n",
       "      <td>146.000000</td>\n",
       "      <td>146.000000</td>\n",
       "      <td>146.000000</td>\n",
       "    </tr>\n",
       "    <tr>\n",
       "      <th>mean</th>\n",
       "      <td>87.869863</td>\n",
       "      <td>172.041918</td>\n",
       "      <td>2.986301</td>\n",
       "      <td>45.452055</td>\n",
       "    </tr>\n",
       "    <tr>\n",
       "      <th>std</th>\n",
       "      <td>70.759356</td>\n",
       "      <td>195.723844</td>\n",
       "      <td>1.875381</td>\n",
       "      <td>87.345535</td>\n",
       "    </tr>\n",
       "    <tr>\n",
       "      <th>min</th>\n",
       "      <td>1.000000</td>\n",
       "      <td>0.000000</td>\n",
       "      <td>1.000000</td>\n",
       "      <td>1.000000</td>\n",
       "    </tr>\n",
       "    <tr>\n",
       "      <th>25%</th>\n",
       "      <td>18.500000</td>\n",
       "      <td>0.000000</td>\n",
       "      <td>1.000000</td>\n",
       "      <td>2.000000</td>\n",
       "    </tr>\n",
       "    <tr>\n",
       "      <th>50%</th>\n",
       "      <td>72.000000</td>\n",
       "      <td>0.000000</td>\n",
       "      <td>4.000000</td>\n",
       "      <td>5.000000</td>\n",
       "    </tr>\n",
       "    <tr>\n",
       "      <th>75%</th>\n",
       "      <td>176.000000</td>\n",
       "      <td>328.970000</td>\n",
       "      <td>5.000000</td>\n",
       "      <td>39.750000</td>\n",
       "    </tr>\n",
       "    <tr>\n",
       "      <th>max</th>\n",
       "      <td>176.000000</td>\n",
       "      <td>499.990000</td>\n",
       "      <td>5.000000</td>\n",
       "      <td>416.000000</td>\n",
       "    </tr>\n",
       "  </tbody>\n",
       "</table>\n",
       "</div>"
      ],
      "text/plain": [
       "          Reviews       Price      Rating     Helpful\n",
       "count  146.000000  146.000000  146.000000  146.000000\n",
       "mean    87.869863  172.041918    2.986301   45.452055\n",
       "std     70.759356  195.723844    1.875381   87.345535\n",
       "min      1.000000    0.000000    1.000000    1.000000\n",
       "25%     18.500000    0.000000    1.000000    2.000000\n",
       "50%     72.000000    0.000000    4.000000    5.000000\n",
       "75%    176.000000  328.970000    5.000000   39.750000\n",
       "max    176.000000  499.990000    5.000000  416.000000"
      ]
     },
     "execution_count": 380,
     "metadata": {},
     "output_type": "execute_result"
    }
   ],
   "source": [
    "#Infomation about the numerical columns.\n",
    "apple.describe()"
   ]
  },
  {
   "cell_type": "code",
   "execution_count": 381,
   "metadata": {
    "scrolled": true
   },
   "outputs": [
    {
     "data": {
      "image/png": "[encoded data removed]",
      "text/plain": [
       "<Figure size 432x288 with 1 Axes>"
      ]
     },
     "metadata": {
      "needs_background": "light"
     },
     "output_type": "display_data"
    }
   ],
   "source": [
    "#Graph 1: Histogram for ratings\n",
    "plt.hist(apple['Rating'])\n",
    "plt.title(\"Amazon Ratings of the Apple IPhone 8\")\n",
    "plt.xlabel(\"Rating\")\n",
    "plt.ylabel(\"Frequency\")\n",
    "plt.show()"
   ]
  },
  {
   "cell_type": "code",
   "execution_count": 382,
   "metadata": {
    "scrolled": false
   },
   "outputs": [
    {
     "data": {
      "text/plain": [
       "<matplotlib.axes._subplots.AxesSubplot at 0x11d94f5c588>"
      ]
     },
     "execution_count": 382,
     "metadata": {},
     "output_type": "execute_result"
    },
    {
     "data": {
      "image/png": "[encoded data removed]",
      "text/plain": [
       "<Figure size 432x288 with 1 Axes>"
      ]
     },
     "metadata": {
      "needs_background": "light"
     },
     "output_type": "display_data"
    }
   ],
   "source": [
    "#Graph 2: Histogram for ratings\n",
    "plt.title('Amazon Verified Count')\n",
    "sns.countplot(x=\"Verified\", data=apple)"
   ]
  },
  {
   "cell_type": "code",
   "execution_count": 390,
   "metadata": {},
   "outputs": [
    {
     "data": {
      "text/plain": [
       "<matplotlib.axes._subplots.AxesSubplot at 0x11d90d9d748>"
      ]
     },
     "execution_count": 390,
     "metadata": {},
     "output_type": "execute_result"
    },
    {
     "data": {
      "image/png": "[encoded data removed]",
      "text/plain": [
       "<Figure size 864x432 with 1 Axes>"
      ]
     },
     "metadata": {
      "needs_background": "light"
     },
     "output_type": "display_data"
    }
   ],
   "source": [
    "#Graph 3: Item # Count Plot\n",
    "plt.figure(figsize=(12, 6)) #adjusting the size so it's easily seen.\n",
    "plt.title('Amazon Phone Review by Count')\n",
    "sns.countplot(x=\"Item #\", data=apple)"
   ]
  },
  {
   "cell_type": "code",
   "execution_count": 389,
   "metadata": {
    "scrolled": true
   },
   "outputs": [
    {
     "data": {
      "text/plain": [
       "<matplotlib.axes._subplots.AxesSubplot at 0x11d90cb3a48>"
      ]
     },
     "execution_count": 389,
     "metadata": {},
     "output_type": "execute_result"
    },
    {
     "data": {
      "image/png": "[encoded data removed]",
      "text/plain": [
       "<Figure size 864x432 with 1 Axes>"
      ]
     },
     "metadata": {
      "needs_background": "light"
     },
     "output_type": "display_data"
    }
   ],
   "source": [
    "#Graph 3: Item # Count Plot\n",
    "plt.figure(figsize=(12, 6)) #adjusting the size so it's easily seen.\n",
    "plt.title('Amazon Phone Ratings by Count')\n",
    "sns.barplot(x=\"Item #\",y='Rating', data=apple)"
   ]
  }
 ],
 "metadata": {
  "kernelspec": {
   "display_name": "Python 3",
   "language": "python",
   "name": "python3"
  },
  "language_info": {
   "codemirror_mode": {
    "name": "ipython",
    "version": 3
   },
   "file_extension": ".py",
   "mimetype": "text/x-python",
   "name": "python",
   "nbconvert_exporter": "python",
   "pygments_lexer": "ipython3",
   "version": "3.7.6"
  }
 },
 "nbformat": 4,
 "nbformat_minor": 4
}
