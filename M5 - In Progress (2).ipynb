{
 "cells": [
  {
   "cell_type": "code",
   "execution_count": 1246,
   "metadata": {},
   "outputs": [],
   "source": [
    "#Erez Sarousi\n",
    "#Professor Werner\n",
    "#DSC550 Data Mining\n",
    "#Bellevue University\n",
    "#5/23/2021"
   ]
  },
  {
   "cell_type": "code",
   "execution_count": 1247,
   "metadata": {
    "scrolled": true
   },
   "outputs": [
    {
     "name": "stdout",
     "output_type": "stream",
     "text": [
      "This Milestone will feature all Milestones fom Milestones 1 to now, in order to display everything with the added advantage of all the information I learned throughout this class. Furthermore, I will explain my processes to greater detail. Thank you.\n",
      "\n",
      "The Business Problem:\n",
      "\n",
      "In a concise sentence, how do we improve the iPhone?\n",
      "\n",
      "I am a data scientist at Apple, and I have been tasked to point out all concerns and points of opportunity regarding previous iphones from Amazon review's datasets. My plan, with this dataset, is that I will isolate and categorize the topic that is being mentioned through this dataset by picking up on certain keywords. There are currently eight different aspects that are being examined by the phones.\n",
      "\n",
      "These aspects are: Appearance, Battery, Screen, Software, Music, Storage, Camera and Speed.\n",
      "\n",
      "Sentiment analysis will be conducted and examined to truly understand what the weak points of the phones are. The idea is that once weak points are isolated, different departments can find out how to most effectively pool their resources to improve customer satisfaction (and by extension, loyalty), leading to future sales and higher profits.\n"
     ]
    }
   ],
   "source": [
    "#Explanation of project and graphs.\n",
    "with open(\"M4.txt\", \"r\"):\n",
    "    print(open(\"M4.txt\", \"r\").read())"
   ]
  },
  {
   "cell_type": "code",
   "execution_count": 1431,
   "metadata": {},
   "outputs": [],
   "source": [
    "from keras.preprocessing.text import text_to_word_sequence, one_hot\n",
    "import matplotlib.pyplot as plt\n",
    "import matplotlib.ticker as ticker\n",
    "from nltk.stem import PorterStemmer \n",
    "from nltk.corpus import stopwords\n",
    "from nltk import word_tokenize\n",
    "import pandas as pd\n",
    "from pandas.core.common import SettingWithCopyWarning\n",
    "import re\n",
    "import scipy\n",
    "import seaborn as sns\n",
    "from sklearn import linear_model\n",
    "from sklearn.exceptions import ConvergenceWarning\n",
    "from sklearn.linear_model import Lasso\n",
    "from sklearn.linear_model import LogisticRegression\n",
    "from sklearn.model_selection import cross_val_score\n",
    "from sklearn.model_selection import train_test_split\n",
    "from sklearn.neural_network import MLPClassifier\n",
    "from sklearn.preprocessing import StandardScaler\n",
    "from sklearn.utils.testing import ignore_warnings\n",
    "scaler = StandardScaler()\n",
    "from textblob import TextBlob\n",
    "import warnings\n",
    "warnings.simplefilter(action='ignore', category=FutureWarning)\n",
    "warnings.simplefilter(action=\"ignore\", category=SettingWithCopyWarning)\n",
    "with warnings.catch_warnings():\n",
    "    warnings.filterwarnings('ignore', category=ConvergenceWarning)\n",
    "from yellowbrick.features import Rank2D"
   ]
  },
  {
   "cell_type": "markdown",
   "metadata": {},
   "source": [
    "# Loading Relevant DataFrames and Preparing Data For Use"
   ]
  },
  {
   "cell_type": "code",
   "execution_count": 1249,
   "metadata": {},
   "outputs": [],
   "source": [
    "#Loading dataframes\n",
    "items = pd.read_csv('20191226-items.csv')\n",
    "reviews = pd.read_csv('20191226-reviews.csv')"
   ]
  },
  {
   "cell_type": "code",
   "execution_count": 1250,
   "metadata": {
    "scrolled": true
   },
   "outputs": [
    {
     "data": {
      "text/html": [
       "<div>\n",
       "<style scoped>\n",
       "    .dataframe tbody tr th:only-of-type {\n",
       "        vertical-align: middle;\n",
       "    }\n",
       "\n",
       "    .dataframe tbody tr th {\n",
       "        vertical-align: top;\n",
       "    }\n",
       "\n",
       "    .dataframe thead th {\n",
       "        text-align: right;\n",
       "    }\n",
       "</style>\n",
       "<table border=\"1\" class=\"dataframe\">\n",
       "  <thead>\n",
       "    <tr style=\"text-align: right;\">\n",
       "      <th></th>\n",
       "      <th>asin</th>\n",
       "      <th>brand</th>\n",
       "      <th>title</th>\n",
       "      <th>url</th>\n",
       "      <th>image</th>\n",
       "      <th>rating</th>\n",
       "      <th>reviewUrl</th>\n",
       "      <th>totalReviews</th>\n",
       "      <th>price</th>\n",
       "      <th>originalPrice</th>\n",
       "    </tr>\n",
       "  </thead>\n",
       "  <tbody>\n",
       "    <tr>\n",
       "      <th>0</th>\n",
       "      <td>B0000SX2UC</td>\n",
       "      <td>NaN</td>\n",
       "      <td>Dual-Band / Tri-Mode Sprint PCS Phone w/ Voice...</td>\n",
       "      <td>https://www.amazon.com/Dual-Band-Tri-Mode-Acti...</td>\n",
       "      <td>https://m.media-amazon.com/images/I/2143EBQ210...</td>\n",
       "      <td>3.0</td>\n",
       "      <td>https://www.amazon.com/product-reviews/B0000SX2UC</td>\n",
       "      <td>14</td>\n",
       "      <td>0.00</td>\n",
       "      <td>0.0</td>\n",
       "    </tr>\n",
       "    <tr>\n",
       "      <th>1</th>\n",
       "      <td>B0009N5L7K</td>\n",
       "      <td>Motorola</td>\n",
       "      <td>Motorola I265 phone</td>\n",
       "      <td>https://www.amazon.com/Motorola-i265-I265-phon...</td>\n",
       "      <td>https://m.media-amazon.com/images/I/419WBAVDAR...</td>\n",
       "      <td>3.0</td>\n",
       "      <td>https://www.amazon.com/product-reviews/B0009N5L7K</td>\n",
       "      <td>7</td>\n",
       "      <td>49.95</td>\n",
       "      <td>0.0</td>\n",
       "    </tr>\n",
       "    <tr>\n",
       "      <th>2</th>\n",
       "      <td>B000SKTZ0S</td>\n",
       "      <td>Motorola</td>\n",
       "      <td>MOTOROLA C168i AT&amp;T CINGULAR PREPAID GOPHONE C...</td>\n",
       "      <td>https://www.amazon.com/MOTOROLA-C168i-CINGULAR...</td>\n",
       "      <td>https://m.media-amazon.com/images/I/71b+q3ydkI...</td>\n",
       "      <td>2.7</td>\n",
       "      <td>https://www.amazon.com/product-reviews/B000SKTZ0S</td>\n",
       "      <td>22</td>\n",
       "      <td>99.99</td>\n",
       "      <td>0.0</td>\n",
       "    </tr>\n",
       "    <tr>\n",
       "      <th>3</th>\n",
       "      <td>B001AO4OUC</td>\n",
       "      <td>Motorola</td>\n",
       "      <td>Motorola i335 Cell Phone Boost Mobile</td>\n",
       "      <td>https://www.amazon.com/Motorola-i335-Phone-Boo...</td>\n",
       "      <td>https://m.media-amazon.com/images/I/710UO8gdT+...</td>\n",
       "      <td>3.3</td>\n",
       "      <td>https://www.amazon.com/product-reviews/B001AO4OUC</td>\n",
       "      <td>21</td>\n",
       "      <td>0.00</td>\n",
       "      <td>0.0</td>\n",
       "    </tr>\n",
       "    <tr>\n",
       "      <th>4</th>\n",
       "      <td>B001DCJAJG</td>\n",
       "      <td>Motorola</td>\n",
       "      <td>Motorola V365 no contract cellular phone AT&amp;T</td>\n",
       "      <td>https://www.amazon.com/Motorola-V365-contract-...</td>\n",
       "      <td>https://m.media-amazon.com/images/I/61LYNCVrrK...</td>\n",
       "      <td>3.1</td>\n",
       "      <td>https://www.amazon.com/product-reviews/B001DCJAJG</td>\n",
       "      <td>12</td>\n",
       "      <td>149.99</td>\n",
       "      <td>0.0</td>\n",
       "    </tr>\n",
       "  </tbody>\n",
       "</table>\n",
       "</div>"
      ],
      "text/plain": [
       "         asin     brand                                              title  \\\n",
       "0  B0000SX2UC       NaN  Dual-Band / Tri-Mode Sprint PCS Phone w/ Voice...   \n",
       "1  B0009N5L7K  Motorola                                Motorola I265 phone   \n",
       "2  B000SKTZ0S  Motorola  MOTOROLA C168i AT&T CINGULAR PREPAID GOPHONE C...   \n",
       "3  B001AO4OUC  Motorola              Motorola i335 Cell Phone Boost Mobile   \n",
       "4  B001DCJAJG  Motorola      Motorola V365 no contract cellular phone AT&T   \n",
       "\n",
       "                                                 url  \\\n",
       "0  https://www.amazon.com/Dual-Band-Tri-Mode-Acti...   \n",
       "1  https://www.amazon.com/Motorola-i265-I265-phon...   \n",
       "2  https://www.amazon.com/MOTOROLA-C168i-CINGULAR...   \n",
       "3  https://www.amazon.com/Motorola-i335-Phone-Boo...   \n",
       "4  https://www.amazon.com/Motorola-V365-contract-...   \n",
       "\n",
       "                                               image  rating  \\\n",
       "0  https://m.media-amazon.com/images/I/2143EBQ210...     3.0   \n",
       "1  https://m.media-amazon.com/images/I/419WBAVDAR...     3.0   \n",
       "2  https://m.media-amazon.com/images/I/71b+q3ydkI...     2.7   \n",
       "3  https://m.media-amazon.com/images/I/710UO8gdT+...     3.3   \n",
       "4  https://m.media-amazon.com/images/I/61LYNCVrrK...     3.1   \n",
       "\n",
       "                                           reviewUrl  totalReviews   price  \\\n",
       "0  https://www.amazon.com/product-reviews/B0000SX2UC            14    0.00   \n",
       "1  https://www.amazon.com/product-reviews/B0009N5L7K             7   49.95   \n",
       "2  https://www.amazon.com/product-reviews/B000SKTZ0S            22   99.99   \n",
       "3  https://www.amazon.com/product-reviews/B001AO4OUC            21    0.00   \n",
       "4  https://www.amazon.com/product-reviews/B001DCJAJG            12  149.99   \n",
       "\n",
       "   originalPrice  \n",
       "0            0.0  \n",
       "1            0.0  \n",
       "2            0.0  \n",
       "3            0.0  \n",
       "4            0.0  "
      ]
     },
     "execution_count": 1250,
     "metadata": {},
     "output_type": "execute_result"
    }
   ],
   "source": [
    "#Examining the items dataframe\n",
    "items.head()"
   ]
  },
  {
   "cell_type": "code",
   "execution_count": 1251,
   "metadata": {},
   "outputs": [
    {
     "data": {
      "text/html": [
       "<div>\n",
       "<style scoped>\n",
       "    .dataframe tbody tr th:only-of-type {\n",
       "        vertical-align: middle;\n",
       "    }\n",
       "\n",
       "    .dataframe tbody tr th {\n",
       "        vertical-align: top;\n",
       "    }\n",
       "\n",
       "    .dataframe thead th {\n",
       "        text-align: right;\n",
       "    }\n",
       "</style>\n",
       "<table border=\"1\" class=\"dataframe\">\n",
       "  <thead>\n",
       "    <tr style=\"text-align: right;\">\n",
       "      <th></th>\n",
       "      <th>rating</th>\n",
       "      <th>totalReviews</th>\n",
       "      <th>price</th>\n",
       "      <th>originalPrice</th>\n",
       "    </tr>\n",
       "  </thead>\n",
       "  <tbody>\n",
       "    <tr>\n",
       "      <th>count</th>\n",
       "      <td>720.000000</td>\n",
       "      <td>720.000000</td>\n",
       "      <td>720.000000</td>\n",
       "      <td>720.000000</td>\n",
       "    </tr>\n",
       "    <tr>\n",
       "      <th>mean</th>\n",
       "      <td>3.713750</td>\n",
       "      <td>105.679167</td>\n",
       "      <td>234.948931</td>\n",
       "      <td>63.690778</td>\n",
       "    </tr>\n",
       "    <tr>\n",
       "      <th>std</th>\n",
       "      <td>0.716014</td>\n",
       "      <td>167.601101</td>\n",
       "      <td>200.008441</td>\n",
       "      <td>172.405370</td>\n",
       "    </tr>\n",
       "    <tr>\n",
       "      <th>min</th>\n",
       "      <td>1.000000</td>\n",
       "      <td>1.000000</td>\n",
       "      <td>0.000000</td>\n",
       "      <td>0.000000</td>\n",
       "    </tr>\n",
       "    <tr>\n",
       "      <th>25%</th>\n",
       "      <td>3.300000</td>\n",
       "      <td>7.000000</td>\n",
       "      <td>97.512500</td>\n",
       "      <td>0.000000</td>\n",
       "    </tr>\n",
       "    <tr>\n",
       "      <th>50%</th>\n",
       "      <td>3.800000</td>\n",
       "      <td>32.000000</td>\n",
       "      <td>188.975000</td>\n",
       "      <td>0.000000</td>\n",
       "    </tr>\n",
       "    <tr>\n",
       "      <th>75%</th>\n",
       "      <td>4.100000</td>\n",
       "      <td>122.250000</td>\n",
       "      <td>336.725000</td>\n",
       "      <td>0.000000</td>\n",
       "    </tr>\n",
       "    <tr>\n",
       "      <th>max</th>\n",
       "      <td>5.000000</td>\n",
       "      <td>983.000000</td>\n",
       "      <td>999.990000</td>\n",
       "      <td>999.990000</td>\n",
       "    </tr>\n",
       "  </tbody>\n",
       "</table>\n",
       "</div>"
      ],
      "text/plain": [
       "           rating  totalReviews       price  originalPrice\n",
       "count  720.000000    720.000000  720.000000     720.000000\n",
       "mean     3.713750    105.679167  234.948931      63.690778\n",
       "std      0.716014    167.601101  200.008441     172.405370\n",
       "min      1.000000      1.000000    0.000000       0.000000\n",
       "25%      3.300000      7.000000   97.512500       0.000000\n",
       "50%      3.800000     32.000000  188.975000       0.000000\n",
       "75%      4.100000    122.250000  336.725000       0.000000\n",
       "max      5.000000    983.000000  999.990000     999.990000"
      ]
     },
     "execution_count": 1251,
     "metadata": {},
     "output_type": "execute_result"
    }
   ],
   "source": [
    "#Finding summary statistics in the dataframe.\n",
    "items.describe()"
   ]
  },
  {
   "cell_type": "code",
   "execution_count": 1465,
   "metadata": {
    "scrolled": true
   },
   "outputs": [
    {
     "data": {
      "text/html": [
       "<div>\n",
       "<style scoped>\n",
       "    .dataframe tbody tr th:only-of-type {\n",
       "        vertical-align: middle;\n",
       "    }\n",
       "\n",
       "    .dataframe tbody tr th {\n",
       "        vertical-align: top;\n",
       "    }\n",
       "\n",
       "    .dataframe thead th {\n",
       "        text-align: right;\n",
       "    }\n",
       "</style>\n",
       "<table border=\"1\" class=\"dataframe\">\n",
       "  <thead>\n",
       "    <tr style=\"text-align: right;\">\n",
       "      <th></th>\n",
       "      <th>asin</th>\n",
       "      <th>name</th>\n",
       "      <th>rating</th>\n",
       "      <th>date</th>\n",
       "      <th>verified</th>\n",
       "      <th>title</th>\n",
       "      <th>body</th>\n",
       "      <th>helpfulVotes</th>\n",
       "    </tr>\n",
       "  </thead>\n",
       "  <tbody>\n",
       "    <tr>\n",
       "      <th>6725</th>\n",
       "      <td>B00D99ZBR6</td>\n",
       "      <td>Katrina Best</td>\n",
       "      <td>3</td>\n",
       "      <td>October 13, 2016</td>\n",
       "      <td>True</td>\n",
       "      <td>Slow basic smartphone</td>\n",
       "      <td>This a small phone and not what my son wanted....</td>\n",
       "      <td>NaN</td>\n",
       "    </tr>\n",
       "    <tr>\n",
       "      <th>32831</th>\n",
       "      <td>B06XSF5C42</td>\n",
       "      <td>Luis Machado</td>\n",
       "      <td>5</td>\n",
       "      <td>February 3, 2019</td>\n",
       "      <td>True</td>\n",
       "      <td>la calidad y la rapidez</td>\n",
       "      <td>todo genial llego a tiempo pero con defecto y ...</td>\n",
       "      <td>NaN</td>\n",
       "    </tr>\n",
       "    <tr>\n",
       "      <th>22913</th>\n",
       "      <td>B01DZ2CS4U</td>\n",
       "      <td>peter jimenez</td>\n",
       "      <td>5</td>\n",
       "      <td>October 22, 2017</td>\n",
       "      <td>True</td>\n",
       "      <td>Five Stars</td>\n",
       "      <td>grate phone love it</td>\n",
       "      <td>NaN</td>\n",
       "    </tr>\n",
       "    <tr>\n",
       "      <th>15479</th>\n",
       "      <td>B00V7FY44A</td>\n",
       "      <td>Amanda Hartfiel</td>\n",
       "      <td>5</td>\n",
       "      <td>December 10, 2015</td>\n",
       "      <td>True</td>\n",
       "      <td>LOVE THIS PHONE!</td>\n",
       "      <td>This phone is amazing! I have yet to find some...</td>\n",
       "      <td>NaN</td>\n",
       "    </tr>\n",
       "    <tr>\n",
       "      <th>64314</th>\n",
       "      <td>B07V5KS95Y</td>\n",
       "      <td>drolson9</td>\n",
       "      <td>4</td>\n",
       "      <td>October 30, 2019</td>\n",
       "      <td>True</td>\n",
       "      <td>Was expecting more for the money.</td>\n",
       "      <td>I like the phone but I guess i was expecting s...</td>\n",
       "      <td>NaN</td>\n",
       "    </tr>\n",
       "  </tbody>\n",
       "</table>\n",
       "</div>"
      ],
      "text/plain": [
       "             asin             name  rating               date  verified  \\\n",
       "6725   B00D99ZBR6     Katrina Best       3   October 13, 2016      True   \n",
       "32831  B06XSF5C42     Luis Machado       5   February 3, 2019      True   \n",
       "22913  B01DZ2CS4U    peter jimenez       5   October 22, 2017      True   \n",
       "15479  B00V7FY44A  Amanda Hartfiel       5  December 10, 2015      True   \n",
       "64314  B07V5KS95Y         drolson9       4   October 30, 2019      True   \n",
       "\n",
       "                                   title  \\\n",
       "6725               Slow basic smartphone   \n",
       "32831            la calidad y la rapidez   \n",
       "22913                         Five Stars   \n",
       "15479                   LOVE THIS PHONE!   \n",
       "64314  Was expecting more for the money.   \n",
       "\n",
       "                                                    body  helpfulVotes  \n",
       "6725   This a small phone and not what my son wanted....           NaN  \n",
       "32831  todo genial llego a tiempo pero con defecto y ...           NaN  \n",
       "22913                                grate phone love it           NaN  \n",
       "15479  This phone is amazing! I have yet to find some...           NaN  \n",
       "64314  I like the phone but I guess i was expecting s...           NaN  "
      ]
     },
     "execution_count": 1465,
     "metadata": {},
     "output_type": "execute_result"
    }
   ],
   "source": [
    "#Examining the reviews dataframe.\n",
    "reviews.sample(n=5)"
   ]
  },
  {
   "cell_type": "code",
   "execution_count": 1253,
   "metadata": {
    "scrolled": true
   },
   "outputs": [
    {
     "data": {
      "text/html": [
       "<div>\n",
       "<style scoped>\n",
       "    .dataframe tbody tr th:only-of-type {\n",
       "        vertical-align: middle;\n",
       "    }\n",
       "\n",
       "    .dataframe tbody tr th {\n",
       "        vertical-align: top;\n",
       "    }\n",
       "\n",
       "    .dataframe thead th {\n",
       "        text-align: right;\n",
       "    }\n",
       "</style>\n",
       "<table border=\"1\" class=\"dataframe\">\n",
       "  <thead>\n",
       "    <tr style=\"text-align: right;\">\n",
       "      <th></th>\n",
       "      <th>rating</th>\n",
       "      <th>helpfulVotes</th>\n",
       "    </tr>\n",
       "  </thead>\n",
       "  <tbody>\n",
       "    <tr>\n",
       "      <th>count</th>\n",
       "      <td>67986.000000</td>\n",
       "      <td>27215.000000</td>\n",
       "    </tr>\n",
       "    <tr>\n",
       "      <th>mean</th>\n",
       "      <td>3.807916</td>\n",
       "      <td>8.229690</td>\n",
       "    </tr>\n",
       "    <tr>\n",
       "      <th>std</th>\n",
       "      <td>1.582906</td>\n",
       "      <td>31.954877</td>\n",
       "    </tr>\n",
       "    <tr>\n",
       "      <th>min</th>\n",
       "      <td>1.000000</td>\n",
       "      <td>1.000000</td>\n",
       "    </tr>\n",
       "    <tr>\n",
       "      <th>25%</th>\n",
       "      <td>3.000000</td>\n",
       "      <td>1.000000</td>\n",
       "    </tr>\n",
       "    <tr>\n",
       "      <th>50%</th>\n",
       "      <td>5.000000</td>\n",
       "      <td>2.000000</td>\n",
       "    </tr>\n",
       "    <tr>\n",
       "      <th>75%</th>\n",
       "      <td>5.000000</td>\n",
       "      <td>5.000000</td>\n",
       "    </tr>\n",
       "    <tr>\n",
       "      <th>max</th>\n",
       "      <td>5.000000</td>\n",
       "      <td>990.000000</td>\n",
       "    </tr>\n",
       "  </tbody>\n",
       "</table>\n",
       "</div>"
      ],
      "text/plain": [
       "             rating  helpfulVotes\n",
       "count  67986.000000  27215.000000\n",
       "mean       3.807916      8.229690\n",
       "std        1.582906     31.954877\n",
       "min        1.000000      1.000000\n",
       "25%        3.000000      1.000000\n",
       "50%        5.000000      2.000000\n",
       "75%        5.000000      5.000000\n",
       "max        5.000000    990.000000"
      ]
     },
     "execution_count": 1253,
     "metadata": {},
     "output_type": "execute_result"
    }
   ],
   "source": [
    "#Examining the summary statistics for the reviews dataframe.\n",
    "reviews.describe()"
   ]
  },
  {
   "cell_type": "code",
   "execution_count": 1254,
   "metadata": {},
   "outputs": [],
   "source": [
    "#Finding all iphone 8 entries\n",
    "AP = items['title'].str.lower().str.find('iphone')!=-1"
   ]
  },
  {
   "cell_type": "code",
   "execution_count": 1255,
   "metadata": {},
   "outputs": [
    {
     "data": {
      "text/plain": [
       "56"
      ]
     },
     "execution_count": 1255,
     "metadata": {},
     "output_type": "execute_result"
    }
   ],
   "source": [
    "#Seeing how many matches exist.\n",
    "AP.sum()"
   ]
  },
  {
   "cell_type": "code",
   "execution_count": 1256,
   "metadata": {},
   "outputs": [],
   "source": [
    "#creating a new df based on the search.\n",
    "items_df = items.loc[AP]"
   ]
  },
  {
   "cell_type": "code",
   "execution_count": 1257,
   "metadata": {
    "scrolled": true
   },
   "outputs": [
    {
     "data": {
      "text/plain": [
       "119    https://www.amazon.com/Apple-iPhone-Plus-Unloc...\n",
       "129    https://www.amazon.com/Apple-iPhone-6S-Unlocke...\n",
       "152    https://www.amazon.com/Apple-iPhone-Unlocked-P...\n",
       "163    https://www.amazon.com/Apple-iPhone-6s-Plus-16...\n",
       "170    https://www.amazon.com/Apple-iPhone-6S-Unlocke...\n",
       "188    https://www.amazon.com/Apple-iPhone-6S-AT-16GB...\n",
       "189    https://www.amazon.com/Apple-iPhone-Unlocked-Q...\n",
       "192    https://www.amazon.com/Apple-iPhone-GSM-Unlock...\n",
       "196    https://www.amazon.com/Apple-iPhone-GSM-Unlock...\n",
       "204    https://www.amazon.com/Apple-iPhone-Fully-Unlo...\n",
       "205    https://www.amazon.com/Apple-iPhone-Plus-Unloc...\n",
       "208    https://www.amazon.com/Apple-iPhone-6S-Fully-U...\n",
       "209    https://www.amazon.com/Apple-iPhone-Fully-Unlo...\n",
       "210    https://www.amazon.com/Apple-iPhone-Fully-Unlo...\n",
       "211    https://www.amazon.com/Apple-iPhone-Unlocked-D...\n",
       "212    https://www.amazon.com/Apple-iPhone-256GB-Unlo...\n",
       "213    https://www.amazon.com/Apple-iPhone-128GB-Unlo...\n",
       "215    https://www.amazon.com/Apple-iPhone-Unlocked-Q...\n",
       "216    https://www.amazon.com/Apple-iPhone-Unlocked-Q...\n",
       "243    https://www.amazon.com/Apple-iPhone-Plus-128GB...\n",
       "247    https://www.amazon.com/Apple-iPhone-GSM-Unlock...\n",
       "263    https://www.amazon.com/Apple-iPhone-32GB-Rose-...\n",
       "265    https://www.amazon.com/Apple-iPhone-GSM-Unlock...\n",
       "267    https://www.amazon.com/Apple-iPhone-GSM-Unlock...\n",
       "297    https://www.amazon.com/Apple-iPhone-GSM-Unlock...\n",
       "306    https://www.amazon.com/Apple-iPhone-Unlocked-S...\n",
       "311    https://www.amazon.com/Apple-iPhone-GSM-Unlock...\n",
       "312    https://www.amazon.com/Apple-iPhone-Fully-Unlo...\n",
       "313    https://www.amazon.com/Apple-iPhone-Unlocked-G...\n",
       "314    https://www.amazon.com/Apple-iPhone-Fully-Unlo...\n",
       "315    https://www.amazon.com/Apple-iPhone-Fully-Unlo...\n",
       "316    https://www.amazon.com/Apple-iPhone-GSM-Unlock...\n",
       "317    https://www.amazon.com/Apple-iPhone-Fully-Unlo...\n",
       "318    https://www.amazon.com/Apple-iPhone-GSM-Unlock...\n",
       "324    https://www.amazon.com/Apple-iPhone-Fully-Unlo...\n",
       "325    https://www.amazon.com/Apple-iPhone-Fully-Unlo...\n",
       "326    https://www.amazon.com/Apple-iPhone-Unlocked-Q...\n",
       "329    https://www.amazon.com/Apple-iPhone-a1687-Unlo...\n",
       "343    https://www.amazon.com/Apple-iPhone-GSM-Unlock...\n",
       "353    https://www.amazon.com/Apple-iPhone-GSM-Unlock...\n",
       "388    https://www.amazon.com/Apple-iPhone-Plus-Veriz...\n",
       "397    https://www.amazon.com/Apple-iPhone-Fully-Unlo...\n",
       "399    https://www.amazon.com/Apple-iPhone-AT-256GB-R...\n",
       "420    https://www.amazon.com/Apple-iPhone-AT-64GB-Re...\n",
       "459    https://www.amazon.com/Apple-iPhone-a1905-Unlo...\n",
       "490    https://www.amazon.com/Apple-iPhone-Max-Fully-...\n",
       "493    https://www.amazon.com/Apple-iPhone-Fully-Unlo...\n",
       "542    https://www.amazon.com/Apple-iPhone-XR-Fully-U...\n",
       "563    https://www.amazon.com/Apple-iPhone-128GB-Rose...\n",
       "598    https://www.amazon.com/Apple-iPhone-Max-256GB-...\n",
       "603    https://www.amazon.com/Apple-iPhone-Xs-Max-64G...\n",
       "608    https://www.amazon.com/Apple-iPhone-XS-256GB-G...\n",
       "629    https://www.amazon.com/Verizon-Prepaid-Apple-i...\n",
       "714    https://www.amazon.com/Apple-iPhone-11-64GB-Un...\n",
       "715    https://www.amazon.com/Apple-iPhone-64GB-Fully...\n",
       "718    https://www.amazon.com/Apple-iPhone-64GB-Gray-...\n",
       "Name: url, dtype: object"
      ]
     },
     "execution_count": 1257,
     "metadata": {},
     "output_type": "execute_result"
    }
   ],
   "source": [
    "#Seeing the list of different options.\n",
    "items_df['url']"
   ]
  },
  {
   "cell_type": "code",
   "execution_count": 1505,
   "metadata": {},
   "outputs": [],
   "source": [
    "#merging the two dataframes based on the asin.\n",
    "apple = pd.merge(items_df,reviews, on='asin')\n",
    "#Dropping nan values.\n",
    "apple = apple.dropna()"
   ]
  },
  {
   "cell_type": "code",
   "execution_count": 1259,
   "metadata": {},
   "outputs": [
    {
     "data": {
      "text/html": [
       "<div>\n",
       "<style scoped>\n",
       "    .dataframe tbody tr th:only-of-type {\n",
       "        vertical-align: middle;\n",
       "    }\n",
       "\n",
       "    .dataframe tbody tr th {\n",
       "        vertical-align: top;\n",
       "    }\n",
       "\n",
       "    .dataframe thead th {\n",
       "        text-align: right;\n",
       "    }\n",
       "</style>\n",
       "<table border=\"1\" class=\"dataframe\">\n",
       "  <thead>\n",
       "    <tr style=\"text-align: right;\">\n",
       "      <th></th>\n",
       "      <th>asin</th>\n",
       "      <th>brand</th>\n",
       "      <th>title_x</th>\n",
       "      <th>url</th>\n",
       "      <th>image</th>\n",
       "      <th>rating_x</th>\n",
       "      <th>reviewUrl</th>\n",
       "      <th>totalReviews</th>\n",
       "      <th>price</th>\n",
       "      <th>originalPrice</th>\n",
       "      <th>name</th>\n",
       "      <th>rating_y</th>\n",
       "      <th>date</th>\n",
       "      <th>verified</th>\n",
       "      <th>title_y</th>\n",
       "      <th>body</th>\n",
       "      <th>helpfulVotes</th>\n",
       "    </tr>\n",
       "  </thead>\n",
       "  <tbody>\n",
       "    <tr>\n",
       "      <th>3152</th>\n",
       "      <td>B077578VXH</td>\n",
       "      <td>Apple</td>\n",
       "      <td>Apple iPhone 8, GSM Unlocked, 64GB - Gold (Ren...</td>\n",
       "      <td>https://www.amazon.com/Apple-iPhone-GSM-Unlock...</td>\n",
       "      <td>https://m.media-amazon.com/images/I/41mOeuE1OT...</td>\n",
       "      <td>4.2</td>\n",
       "      <td>https://www.amazon.com/product-reviews/B077578VXH</td>\n",
       "      <td>72</td>\n",
       "      <td>299.00</td>\n",
       "      <td>319.99</td>\n",
       "      <td>Frankie Richardson</td>\n",
       "      <td>5</td>\n",
       "      <td>August 16, 2019</td>\n",
       "      <td>True</td>\n",
       "      <td>Exactly what I paid for!!!</td>\n",
       "      <td>Ignore all the bad reviews ! I got my IPhone 8...</td>\n",
       "      <td>22.0</td>\n",
       "    </tr>\n",
       "    <tr>\n",
       "      <th>2231</th>\n",
       "      <td>B0731HBTZ7</td>\n",
       "      <td>Apple</td>\n",
       "      <td>Apple iPhone 7 32GB, Rose Gold (Renewed)</td>\n",
       "      <td>https://www.amazon.com/Apple-iPhone-32GB-Rose-...</td>\n",
       "      <td>https://m.media-amazon.com/images/I/51cRE43zKw...</td>\n",
       "      <td>3.8</td>\n",
       "      <td>https://www.amazon.com/product-reviews/B0731HBTZ7</td>\n",
       "      <td>452</td>\n",
       "      <td>199.95</td>\n",
       "      <td>210.00</td>\n",
       "      <td>RaeRae</td>\n",
       "      <td>2</td>\n",
       "      <td>July 30, 2019</td>\n",
       "      <td>True</td>\n",
       "      <td>I didn’t get my phone</td>\n",
       "      <td>I didn’t get my phone</td>\n",
       "      <td>1.0</td>\n",
       "    </tr>\n",
       "  </tbody>\n",
       "</table>\n",
       "</div>"
      ],
      "text/plain": [
       "            asin  brand                                            title_x  \\\n",
       "3152  B077578VXH  Apple  Apple iPhone 8, GSM Unlocked, 64GB - Gold (Ren...   \n",
       "2231  B0731HBTZ7  Apple           Apple iPhone 7 32GB, Rose Gold (Renewed)   \n",
       "\n",
       "                                                    url  \\\n",
       "3152  https://www.amazon.com/Apple-iPhone-GSM-Unlock...   \n",
       "2231  https://www.amazon.com/Apple-iPhone-32GB-Rose-...   \n",
       "\n",
       "                                                  image  rating_x  \\\n",
       "3152  https://m.media-amazon.com/images/I/41mOeuE1OT...       4.2   \n",
       "2231  https://m.media-amazon.com/images/I/51cRE43zKw...       3.8   \n",
       "\n",
       "                                              reviewUrl  totalReviews   price  \\\n",
       "3152  https://www.amazon.com/product-reviews/B077578VXH            72  299.00   \n",
       "2231  https://www.amazon.com/product-reviews/B0731HBTZ7           452  199.95   \n",
       "\n",
       "      originalPrice                name  rating_y             date  verified  \\\n",
       "3152         319.99  Frankie Richardson         5  August 16, 2019      True   \n",
       "2231         210.00              RaeRae         2    July 30, 2019      True   \n",
       "\n",
       "                         title_y  \\\n",
       "3152  Exactly what I paid for!!!   \n",
       "2231       I didn’t get my phone   \n",
       "\n",
       "                                                   body  helpfulVotes  \n",
       "3152  Ignore all the bad reviews ! I got my IPhone 8...          22.0  \n",
       "2231                              I didn’t get my phone           1.0  "
      ]
     },
     "execution_count": 1259,
     "metadata": {},
     "output_type": "execute_result"
    }
   ],
   "source": [
    "#Reviewing the new dataframe\n",
    "apple.sample(n=2)"
   ]
  },
  {
   "cell_type": "code",
   "execution_count": 1260,
   "metadata": {},
   "outputs": [
    {
     "data": {
      "text/html": [
       "<div>\n",
       "<style scoped>\n",
       "    .dataframe tbody tr th:only-of-type {\n",
       "        vertical-align: middle;\n",
       "    }\n",
       "\n",
       "    .dataframe tbody tr th {\n",
       "        vertical-align: top;\n",
       "    }\n",
       "\n",
       "    .dataframe thead th {\n",
       "        text-align: right;\n",
       "    }\n",
       "</style>\n",
       "<table border=\"1\" class=\"dataframe\">\n",
       "  <thead>\n",
       "    <tr style=\"text-align: right;\">\n",
       "      <th></th>\n",
       "      <th>rating_x</th>\n",
       "      <th>totalReviews</th>\n",
       "      <th>price</th>\n",
       "      <th>originalPrice</th>\n",
       "      <th>rating_y</th>\n",
       "      <th>helpfulVotes</th>\n",
       "    </tr>\n",
       "  </thead>\n",
       "  <tbody>\n",
       "    <tr>\n",
       "      <th>count</th>\n",
       "      <td>1696.000000</td>\n",
       "      <td>1696.000000</td>\n",
       "      <td>1696.000000</td>\n",
       "      <td>1696.000000</td>\n",
       "      <td>1696.000000</td>\n",
       "      <td>1696.000000</td>\n",
       "    </tr>\n",
       "    <tr>\n",
       "      <th>mean</th>\n",
       "      <td>3.858373</td>\n",
       "      <td>258.274175</td>\n",
       "      <td>360.173190</td>\n",
       "      <td>178.950342</td>\n",
       "      <td>3.195755</td>\n",
       "      <td>20.048349</td>\n",
       "    </tr>\n",
       "    <tr>\n",
       "      <th>std</th>\n",
       "      <td>0.225487</td>\n",
       "      <td>154.978597</td>\n",
       "      <td>166.541608</td>\n",
       "      <td>253.163348</td>\n",
       "      <td>1.818783</td>\n",
       "      <td>62.546493</td>\n",
       "    </tr>\n",
       "    <tr>\n",
       "      <th>min</th>\n",
       "      <td>1.000000</td>\n",
       "      <td>1.000000</td>\n",
       "      <td>133.550000</td>\n",
       "      <td>0.000000</td>\n",
       "      <td>1.000000</td>\n",
       "      <td>1.000000</td>\n",
       "    </tr>\n",
       "    <tr>\n",
       "      <th>25%</th>\n",
       "      <td>3.800000</td>\n",
       "      <td>153.000000</td>\n",
       "      <td>199.277500</td>\n",
       "      <td>0.000000</td>\n",
       "      <td>1.000000</td>\n",
       "      <td>1.000000</td>\n",
       "    </tr>\n",
       "    <tr>\n",
       "      <th>50%</th>\n",
       "      <td>3.900000</td>\n",
       "      <td>230.000000</td>\n",
       "      <td>349.800000</td>\n",
       "      <td>0.000000</td>\n",
       "      <td>4.000000</td>\n",
       "      <td>2.000000</td>\n",
       "    </tr>\n",
       "    <tr>\n",
       "      <th>75%</th>\n",
       "      <td>4.000000</td>\n",
       "      <td>436.000000</td>\n",
       "      <td>479.000000</td>\n",
       "      <td>271.840000</td>\n",
       "      <td>5.000000</td>\n",
       "      <td>7.000000</td>\n",
       "    </tr>\n",
       "    <tr>\n",
       "      <th>max</th>\n",
       "      <td>4.600000</td>\n",
       "      <td>452.000000</td>\n",
       "      <td>949.000000</td>\n",
       "      <td>749.990000</td>\n",
       "      <td>5.000000</td>\n",
       "      <td>990.000000</td>\n",
       "    </tr>\n",
       "  </tbody>\n",
       "</table>\n",
       "</div>"
      ],
      "text/plain": [
       "          rating_x  totalReviews        price  originalPrice     rating_y  \\\n",
       "count  1696.000000   1696.000000  1696.000000    1696.000000  1696.000000   \n",
       "mean      3.858373    258.274175   360.173190     178.950342     3.195755   \n",
       "std       0.225487    154.978597   166.541608     253.163348     1.818783   \n",
       "min       1.000000      1.000000   133.550000       0.000000     1.000000   \n",
       "25%       3.800000    153.000000   199.277500       0.000000     1.000000   \n",
       "50%       3.900000    230.000000   349.800000       0.000000     4.000000   \n",
       "75%       4.000000    436.000000   479.000000     271.840000     5.000000   \n",
       "max       4.600000    452.000000   949.000000     749.990000     5.000000   \n",
       "\n",
       "       helpfulVotes  \n",
       "count   1696.000000  \n",
       "mean      20.048349  \n",
       "std       62.546493  \n",
       "min        1.000000  \n",
       "25%        1.000000  \n",
       "50%        2.000000  \n",
       "75%        7.000000  \n",
       "max      990.000000  "
      ]
     },
     "execution_count": 1260,
     "metadata": {},
     "output_type": "execute_result"
    }
   ],
   "source": [
    "#Describing the newly formed apple dataframe\n",
    "apple.describe()"
   ]
  },
  {
   "cell_type": "code",
   "execution_count": 1261,
   "metadata": {},
   "outputs": [
    {
     "data": {
      "text/plain": [
       "(1696, 17)"
      ]
     },
     "execution_count": 1261,
     "metadata": {},
     "output_type": "execute_result"
    }
   ],
   "source": [
    "#Checking out the shape of the dataframe.\n",
    "apple.shape"
   ]
  },
  {
   "cell_type": "code",
   "execution_count": 1507,
   "metadata": {},
   "outputs": [],
   "source": [
    "#Deleting erroneous columns.\n",
    "del apple['image']\n",
    "del apple['url']\n",
    "del apple['reviewUrl']\n",
    "del apple['price']\n",
    "del apple['name']\n",
    "del apple['rating_x']"
   ]
  },
  {
   "cell_type": "code",
   "execution_count": 1508,
   "metadata": {},
   "outputs": [
    {
     "data": {
      "text/html": [
       "<div>\n",
       "<style scoped>\n",
       "    .dataframe tbody tr th:only-of-type {\n",
       "        vertical-align: middle;\n",
       "    }\n",
       "\n",
       "    .dataframe tbody tr th {\n",
       "        vertical-align: top;\n",
       "    }\n",
       "\n",
       "    .dataframe thead th {\n",
       "        text-align: right;\n",
       "    }\n",
       "</style>\n",
       "<table border=\"1\" class=\"dataframe\">\n",
       "  <thead>\n",
       "    <tr style=\"text-align: right;\">\n",
       "      <th></th>\n",
       "      <th>Item #</th>\n",
       "      <th>Brand</th>\n",
       "      <th>Model</th>\n",
       "      <th>Reviews</th>\n",
       "      <th>Price</th>\n",
       "      <th>Rating</th>\n",
       "      <th>Date</th>\n",
       "      <th>Verified</th>\n",
       "      <th>Review Title</th>\n",
       "      <th>Review</th>\n",
       "      <th>Helpful</th>\n",
       "    </tr>\n",
       "  </thead>\n",
       "  <tbody>\n",
       "    <tr>\n",
       "      <th>590</th>\n",
       "      <td>B06XR1K6HR</td>\n",
       "      <td>Apple</td>\n",
       "      <td>Apple iPhone 6S Plus, 64GB, Rose Gold - For AT...</td>\n",
       "      <td>56</td>\n",
       "      <td>0.00</td>\n",
       "      <td>5</td>\n",
       "      <td>2017-06-08</td>\n",
       "      <td>True</td>\n",
       "      <td>Five Stars</td>\n",
       "      <td>Arrived quickly, just as described!</td>\n",
       "      <td>1.0</td>\n",
       "    </tr>\n",
       "    <tr>\n",
       "      <th>2665</th>\n",
       "      <td>B0775451TT</td>\n",
       "      <td>Apple</td>\n",
       "      <td>Apple iPhone X, 256GB, Silver - For AT&amp;T / T-M...</td>\n",
       "      <td>436</td>\n",
       "      <td>749.99</td>\n",
       "      <td>5</td>\n",
       "      <td>2019-06-27</td>\n",
       "      <td>True</td>\n",
       "      <td>Lavable</td>\n",
       "      <td>Lovable 5 stars. Works perfect 🙏😁</td>\n",
       "      <td>8.0</td>\n",
       "    </tr>\n",
       "  </tbody>\n",
       "</table>\n",
       "</div>"
      ],
      "text/plain": [
       "          Item #  Brand                                              Model  \\\n",
       "590   B06XR1K6HR  Apple  Apple iPhone 6S Plus, 64GB, Rose Gold - For AT...   \n",
       "2665  B0775451TT  Apple  Apple iPhone X, 256GB, Silver - For AT&T / T-M...   \n",
       "\n",
       "      Reviews   Price  Rating       Date  Verified Review Title  \\\n",
       "590        56    0.00       5 2017-06-08      True   Five Stars   \n",
       "2665      436  749.99       5 2019-06-27      True      Lavable   \n",
       "\n",
       "                                   Review  Helpful  \n",
       "590   Arrived quickly, just as described!      1.0  \n",
       "2665    Lovable 5 stars. Works perfect 🙏😁      8.0  "
      ]
     },
     "execution_count": 1508,
     "metadata": {},
     "output_type": "execute_result"
    }
   ],
   "source": [
    "#Renaming columns.\n",
    "apple.columns = ['Item #', 'Brand', 'Model', 'Reviews', 'Price', 'Rating', 'Date', 'Verified', 'Review Title', 'Review',\n",
    "                 'Helpful']\n",
    "apple['Date'] = pd.to_datetime(apple['Date']) #Reformatting date/time format.\n",
    "apple.sample(n=2)"
   ]
  },
  {
   "cell_type": "code",
   "execution_count": 1509,
   "metadata": {},
   "outputs": [
    {
     "data": {
      "image/png": "[encoded data removed]",
      "text/plain": [
       "<Figure size 1440x576 with 1 Axes>"
      ]
     },
     "metadata": {},
     "output_type": "display_data"
    }
   ],
   "source": [
    "#Learning about the distribution of the reviews\n",
    "plt.hist(apple['Rating'],bins=5)\n",
    "plt.title(\"Amazon Ratings of the Apple IPhone 8\")\n",
    "plt.xlabel(\"Rating\")\n",
    "plt.ylabel(\"Frequency\")\n",
    "plt.show()"
   ]
  },
  {
   "cell_type": "code",
   "execution_count": 1510,
   "metadata": {},
   "outputs": [
    {
     "data": {
      "text/plain": [
       "<matplotlib.axes._subplots.AxesSubplot at 0x200a1c89808>"
      ]
     },
     "execution_count": 1510,
     "metadata": {},
     "output_type": "execute_result"
    },
    {
     "data": {
      "image/png": "[encoded data removed]",
      "text/plain": [
       "<Figure size 1440x576 with 1 Axes>"
      ]
     },
     "metadata": {},
     "output_type": "display_data"
    }
   ],
   "source": [
    "#Seeing how many of these ratings are from a verified source - bar chart.\n",
    "plt.title('Amazon Verified Count')\n",
    "sns.countplot(x=\"Verified\", data=apple)"
   ]
  },
  {
   "cell_type": "code",
   "execution_count": 1512,
   "metadata": {},
   "outputs": [
    {
     "data": {
      "text/plain": [
       "(1696, 11)"
      ]
     },
     "execution_count": 1512,
     "metadata": {},
     "output_type": "execute_result"
    }
   ],
   "source": [
    "apple.shape"
   ]
  },
  {
   "cell_type": "code",
   "execution_count": 1513,
   "metadata": {
    "scrolled": true
   },
   "outputs": [
    {
     "data": {
      "text/html": [
       "<div>\n",
       "<style scoped>\n",
       "    .dataframe tbody tr th:only-of-type {\n",
       "        vertical-align: middle;\n",
       "    }\n",
       "\n",
       "    .dataframe tbody tr th {\n",
       "        vertical-align: top;\n",
       "    }\n",
       "\n",
       "    .dataframe thead th {\n",
       "        text-align: right;\n",
       "    }\n",
       "</style>\n",
       "<table border=\"1\" class=\"dataframe\">\n",
       "  <thead>\n",
       "    <tr style=\"text-align: right;\">\n",
       "      <th></th>\n",
       "      <th>Item #</th>\n",
       "      <th>Brand</th>\n",
       "      <th>Model</th>\n",
       "      <th>Reviews</th>\n",
       "      <th>Price</th>\n",
       "      <th>Rating</th>\n",
       "      <th>Date</th>\n",
       "      <th>Verified</th>\n",
       "      <th>Review Title</th>\n",
       "      <th>Review</th>\n",
       "      <th>Helpful</th>\n",
       "    </tr>\n",
       "  </thead>\n",
       "  <tbody>\n",
       "    <tr>\n",
       "      <th>0</th>\n",
       "      <td>B01AUOS8BI</td>\n",
       "      <td>Apple</td>\n",
       "      <td>Apple iPhone 6S Plus, 128GB, Rose Gold - For A...</td>\n",
       "      <td>7</td>\n",
       "      <td>0.00</td>\n",
       "      <td>5</td>\n",
       "      <td>2018-10-26</td>\n",
       "      <td>True</td>\n",
       "      <td>Great</td>\n",
       "      <td>Great! Minor scratches on the screen but its b...</td>\n",
       "      <td>7.0</td>\n",
       "    </tr>\n",
       "    <tr>\n",
       "      <th>1</th>\n",
       "      <td>B01AUOS8BI</td>\n",
       "      <td>Apple</td>\n",
       "      <td>Apple iPhone 6S Plus, 128GB, Rose Gold - For A...</td>\n",
       "      <td>7</td>\n",
       "      <td>0.00</td>\n",
       "      <td>1</td>\n",
       "      <td>2018-12-27</td>\n",
       "      <td>True</td>\n",
       "      <td>No good</td>\n",
       "      <td>I hace ti return it, it doesn’t work at all</td>\n",
       "      <td>3.0</td>\n",
       "    </tr>\n",
       "    <tr>\n",
       "      <th>2</th>\n",
       "      <td>B01AUOS8BI</td>\n",
       "      <td>Apple</td>\n",
       "      <td>Apple iPhone 6S Plus, 128GB, Rose Gold - For A...</td>\n",
       "      <td>7</td>\n",
       "      <td>0.00</td>\n",
       "      <td>1</td>\n",
       "      <td>2019-06-15</td>\n",
       "      <td>True</td>\n",
       "      <td>Trash battery, phone, and touch recognition.</td>\n",
       "      <td>I do not like the battery. The battery jumped ...</td>\n",
       "      <td>1.0</td>\n",
       "    </tr>\n",
       "    <tr>\n",
       "      <th>5</th>\n",
       "      <td>B01CR1FQMG</td>\n",
       "      <td>Apple</td>\n",
       "      <td>Apple iPhone 6S, 64GB, Rose Gold - For AT&amp;T / ...</td>\n",
       "      <td>1</td>\n",
       "      <td>659.99</td>\n",
       "      <td>5</td>\n",
       "      <td>2017-04-03</td>\n",
       "      <td>True</td>\n",
       "      <td>All good so far.</td>\n",
       "      <td>TLDR: Great phone, looks new. Pay attention to...</td>\n",
       "      <td>1.0</td>\n",
       "    </tr>\n",
       "    <tr>\n",
       "      <th>6</th>\n",
       "      <td>B01CR1FQMG</td>\n",
       "      <td>Apple</td>\n",
       "      <td>Apple iPhone 6S, 64GB, Rose Gold - For AT&amp;T / ...</td>\n",
       "      <td>1</td>\n",
       "      <td>659.99</td>\n",
       "      <td>1</td>\n",
       "      <td>2018-09-23</td>\n",
       "      <td>True</td>\n",
       "      <td>Do NOT buy from this company!!! They’re produc...</td>\n",
       "      <td>This will be the 3rd iPhone 6s I have had to r...</td>\n",
       "      <td>209.0</td>\n",
       "    </tr>\n",
       "  </tbody>\n",
       "</table>\n",
       "</div>"
      ],
      "text/plain": [
       "       Item #  Brand                                              Model  \\\n",
       "0  B01AUOS8BI  Apple  Apple iPhone 6S Plus, 128GB, Rose Gold - For A...   \n",
       "1  B01AUOS8BI  Apple  Apple iPhone 6S Plus, 128GB, Rose Gold - For A...   \n",
       "2  B01AUOS8BI  Apple  Apple iPhone 6S Plus, 128GB, Rose Gold - For A...   \n",
       "5  B01CR1FQMG  Apple  Apple iPhone 6S, 64GB, Rose Gold - For AT&T / ...   \n",
       "6  B01CR1FQMG  Apple  Apple iPhone 6S, 64GB, Rose Gold - For AT&T / ...   \n",
       "\n",
       "   Reviews   Price  Rating       Date  Verified  \\\n",
       "0        7    0.00       5 2018-10-26      True   \n",
       "1        7    0.00       1 2018-12-27      True   \n",
       "2        7    0.00       1 2019-06-15      True   \n",
       "5        1  659.99       5 2017-04-03      True   \n",
       "6        1  659.99       1 2018-09-23      True   \n",
       "\n",
       "                                        Review Title  \\\n",
       "0                                              Great   \n",
       "1                                            No good   \n",
       "2       Trash battery, phone, and touch recognition.   \n",
       "5                                   All good so far.   \n",
       "6  Do NOT buy from this company!!! They’re produc...   \n",
       "\n",
       "                                              Review  Helpful  \n",
       "0  Great! Minor scratches on the screen but its b...      7.0  \n",
       "1        I hace ti return it, it doesn’t work at all      3.0  \n",
       "2  I do not like the battery. The battery jumped ...      1.0  \n",
       "5  TLDR: Great phone, looks new. Pay attention to...      1.0  \n",
       "6  This will be the 3rd iPhone 6s I have had to r...    209.0  "
      ]
     },
     "execution_count": 1513,
     "metadata": {},
     "output_type": "execute_result"
    }
   ],
   "source": [
    "apple.head()"
   ]
  },
  {
   "cell_type": "code",
   "execution_count": 1502,
   "metadata": {},
   "outputs": [],
   "source": [
    "def translate(x):\n",
    "    try:\n",
    "        if pd.isna(x) == False:\n",
    "            return TextBlob(x.strip()).translate(to='en')\n",
    "        return(x)\n",
    "    except:\n",
    "        return(x)\n",
    "        \n",
    "apple['Review'] = apple['Review'].apply(translate)"
   ]
  },
  {
   "cell_type": "code",
   "execution_count": 1516,
   "metadata": {
    "scrolled": true
   },
   "outputs": [
    {
     "data": {
      "text/plain": [
       "0    Great! Minor scratches on the screen but its b...\n",
       "1          I hace ti return it, it doesn’t work at all\n",
       "2    I do not like the battery. The battery jumped ...\n",
       "5    TLDR: Great phone, looks new. Pay attention to...\n",
       "6    This will be the 3rd iPhone 6s I have had to r...\n",
       "Name: Review, dtype: object"
      ]
     },
     "execution_count": 1516,
     "metadata": {},
     "output_type": "execute_result"
    }
   ],
   "source": [
    "apple['Review'].head()"
   ]
  },
  {
   "cell_type": "code",
   "execution_count": null,
   "metadata": {},
   "outputs": [],
   "source": [
    "### Sentiment Analysis:\n",
    "#Lowering the casing.\n",
    "apple['Review'] = apple['Review'].apply(lambda x: \" \".join(x.lower() for x in x.split()))\n",
    "apple.sample(n=2)"
   ]
  },
  {
   "cell_type": "code",
   "execution_count": null,
   "metadata": {},
   "outputs": [],
   "source": [
    "#Removing punctuation.\n",
    "apple['Review'] = apple['Review'].map(lambda x: re.sub(r'\\W+', ' ', x))\n",
    "apple.sample(n=2)"
   ]
  },
  {
   "cell_type": "code",
   "execution_count": null,
   "metadata": {},
   "outputs": [],
   "source": [
    "#Removing stop words.\n",
    "stop = stopwords.words('english') #stop words = English.\n",
    "apple['Review'] = apple['Review'].apply(lambda x: \" \".join(x for x in x.split() if x not in stop)) \n",
    "apple.sample(n=2)"
   ]
  },
  {
   "cell_type": "code",
   "execution_count": null,
   "metadata": {},
   "outputs": [],
   "source": [
    "#Word tokenizing\n",
    "apple['Review'] = apple['Review'].apply(word_tokenize) \n",
    "apple.sample(n=2)"
   ]
  },
  {
   "cell_type": "code",
   "execution_count": null,
   "metadata": {},
   "outputs": [],
   "source": [
    "#word stemming\n",
    "stemmer = PorterStemmer()\n",
    "apple['Review'] = apple['Review'].apply(lambda x: ' '.join([stemmer.stem(y) for y in x]))\n",
    "apple.sample(n=2)"
   ]
  },
  {
   "cell_type": "code",
   "execution_count": null,
   "metadata": {},
   "outputs": [],
   "source": [
    "with open(\"M4-1.txt\", \"r\"):\n",
    "    print(open(\"M4-1.txt\", \"r\").read())"
   ]
  },
  {
   "cell_type": "markdown",
   "metadata": {},
   "source": [
    "# Splitting the dataframe to review several aspects."
   ]
  },
  {
   "cell_type": "code",
   "execution_count": null,
   "metadata": {},
   "outputs": [],
   "source": [
    "#List of terms people would use to review.\n",
    "Battery = [\"battery\", 'charge', 'juice', 'charging', 'talk time', 'hours', 'minutes', 'life', 'lasts']\n",
    "Camera = [\"camera\", 'pixels', 'megapixels', 'pictures', 'video', 'facial', 'recognition', 'animoji', 'zoom', 'dual',\n",
    "          'optical', 'front', 'rear', 'back', 'lens']\n",
    "Speed = ['speed', 'fast', 'slow', 'quick', 'lag', 'ram']\n",
    "Storage = [\"storage\", 'space', 'room', 'memory', 'gb', 'capacity', 'expandable']\n",
    "Software = [\"software\", 'itunes', 'app store', 'app', 'ios', 'animoji', 'game', 'siri', 'touch screen']\n",
    "Music = [\"music\", 'audio', 'song', 'sound', 'speaker']\n",
    "Screen = [\"screen\", 'oled', 'led', 'lcd', 'scratch', 'widescreen', 'backlit', 'display', 'retina', 'glass', 'inch',\n",
    "          'resolution', 'break', 'unbreakable', 'shatter', 'chip']\n",
    "Appearance = [\"color\", \"size\", 'colour', 'case', 'looks', 'vibrant']"
   ]
  },
  {
   "cell_type": "code",
   "execution_count": null,
   "metadata": {},
   "outputs": [],
   "source": [
    "#Searching all rows for items in the lists.\n",
    "appe = apple[apple['Review'].str.lower().str.contains('|'.join(Appearance))]\n",
    "batt = apple[apple['Review'].str.lower().str.contains('|'.join(Battery))]\n",
    "came = apple[apple['Review'].str.lower().str.contains('|'.join(Camera))]\n",
    "spee = apple[apple['Review'].str.lower().str.contains('|'.join(Speed))]\n",
    "stor = apple[apple['Review'].str.lower().str.contains('|'.join(Storage))]\n",
    "soft = apple[apple['Review'].str.lower().str.contains('|'.join(Software))]\n",
    "musi = apple[apple['Review'].str.lower().str.contains('|'.join(Music))]\n",
    "scre = apple[apple['Review'].str.lower().str.contains('|'.join(Screen))]"
   ]
  },
  {
   "cell_type": "code",
   "execution_count": null,
   "metadata": {},
   "outputs": [],
   "source": [
    "#Defining the sentiment analysis function\n",
    "def ss(x):\n",
    "    return TextBlob(x).sentiment "
   ]
  },
  {
   "cell_type": "code",
   "execution_count": null,
   "metadata": {},
   "outputs": [],
   "source": [
    "with open(\"M4-2.txt\", \"r\"):\n",
    "    print(open(\"M4-2.txt\", \"r\").read())"
   ]
  },
  {
   "cell_type": "markdown",
   "metadata": {},
   "source": [
    "# Appearance"
   ]
  },
  {
   "cell_type": "code",
   "execution_count": null,
   "metadata": {},
   "outputs": [],
   "source": [
    "#Adding sentiment analysis and slicing the positivity/negativity scores columns.\n",
    "appe['Score'] = appe['Review'].apply(ss)\n",
    "appe['Positivity'] = appe['Score'].apply(lambda x:x[0])\n",
    "appe['Subjectivity'] = appe['Score'].apply(lambda x:x[1])\n",
    "appe['Topic'] = 'Appearance'\n",
    "appe.head()"
   ]
  },
  {
   "cell_type": "code",
   "execution_count": null,
   "metadata": {},
   "outputs": [],
   "source": [
    "appe.describe()"
   ]
  },
  {
   "cell_type": "code",
   "execution_count": null,
   "metadata": {
    "scrolled": false
   },
   "outputs": [],
   "source": [
    "#Time series\n",
    "ylist = ['Positivity', 'Subjectivity']\n",
    "appe_ts = appe.plot(x='Date', y=ylist)"
   ]
  },
  {
   "cell_type": "code",
   "execution_count": null,
   "metadata": {},
   "outputs": [],
   "source": [
    "#Linear regression\n",
    "sns.regplot(x='Price',y=\"Positivity\",data=appe)"
   ]
  },
  {
   "cell_type": "code",
   "execution_count": null,
   "metadata": {},
   "outputs": [],
   "source": [
    "#Linear regression\n",
    "sns.regplot(x='Subjectivity',y=\"Positivity\",data=appe)"
   ]
  },
  {
   "cell_type": "code",
   "execution_count": null,
   "metadata": {},
   "outputs": [],
   "source": [
    "#Histogram\n",
    "sns.set(rc={'figure.figsize':(20,8)})\n",
    "ax = sns.countplot(appe['Positivity'])\n",
    "x=[-1,-.75,-5,-.25,0,.25,.5,.75,1]\n",
    "tick_spacing = 3\n",
    "ax.xaxis.set_major_locator(ticker.MultipleLocator(tick_spacing))\n",
    "ax.set_xticklabels(ax.get_xticklabels(), rotation=40, ha='right')\n",
    "plt.show()"
   ]
  },
  {
   "cell_type": "code",
   "execution_count": null,
   "metadata": {},
   "outputs": [],
   "source": [
    "sns.histplot(appe['Positivity'])"
   ]
  },
  {
   "cell_type": "code",
   "execution_count": null,
   "metadata": {},
   "outputs": [],
   "source": [
    "#Histogram\n",
    "sns.set(rc={'figure.figsize':(20,8)})\n",
    "ax = sns.countplot(appe['Subjectivity'])\n",
    "x=[-1,-.75,-5,-.25,0,.25,.5,.75,1]\n",
    "tick_spacing = 3\n",
    "ax.xaxis.set_major_locator(ticker.MultipleLocator(tick_spacing))\n",
    "ax.set_xticklabels(ax.get_xticklabels(), rotation=40, ha='right')\n",
    "plt.show()"
   ]
  },
  {
   "cell_type": "code",
   "execution_count": null,
   "metadata": {},
   "outputs": [],
   "source": [
    "num_features = ['Price', 'Rating', 'Positivity', 'Subjectivity']\n",
    "X = appe[num_features].values\n",
    "visualizer = Rank2D(features=num_features, algorithm='pearson')\n",
    "visualizer.fit(X)                # Fit the data to the visualizer\n",
    "visualizer.transform(X)             # Transform the data\n",
    "#visualizer.poof(outpath=\"c://soft.png\") # Draw/show/poof the data"
   ]
  },
  {
   "cell_type": "code",
   "execution_count": null,
   "metadata": {},
   "outputs": [],
   "source": [
    "#Finding out R2 info.\n",
    "r, p = scipy.stats.pearsonr(appe['Rating'],appe['Positivity']) #Pearson's R coefficient\n",
    "print(\"Rating/Positivity R is: \"+str(round(r, 3)))\n",
    "print(\"Rating/Positivity Probability is: \"+str(round(p, 3)))\n",
    "#Between Positivity and Subjectivity\n",
    "r, p = scipy.stats.pearsonr(appe['Subjectivity'],appe['Positivity']) #Pearson's R coefficient\n",
    "print(\"Subjectivity/Positivity R is: \"+str(round(r, 3)))\n",
    "print(\"Subjectivity/Positivity Probability is: \"+str(round(p, 3)))\n",
    "#Between Rating and Subjectivity\n",
    "r, p = scipy.stats.pearsonr(appe['Rating'],appe['Subjectivity']) #Pearson's R coefficient\n",
    "print(\"Subjectivity/Rating R is: \"+str(round(r, 3)))\n",
    "print(\"Subjectivity/Rating Probability is: \"+str(round(p, 3)))"
   ]
  },
  {
   "cell_type": "code",
   "execution_count": null,
   "metadata": {},
   "outputs": [],
   "source": [
    "with open(\"M4-3.txt\", \"r\"):\n",
    "    print(open(\"M4-3.txt\", \"r\").read())"
   ]
  },
  {
   "cell_type": "markdown",
   "metadata": {},
   "source": [
    "# Battery"
   ]
  },
  {
   "cell_type": "code",
   "execution_count": null,
   "metadata": {},
   "outputs": [],
   "source": [
    "#Adding sentiment analysis and slicing the positivity/negativity scores columns.\n",
    "batt['Score'] = batt['Review'].apply(ss)\n",
    "batt['Positivity'] = batt['Score'].apply(lambda x:x[0])\n",
    "batt['Subjectivity'] = batt['Score'].apply(lambda x:x[1])\n",
    "batt['Topic'] = 'Battery'\n",
    "batt.sample(n=2)"
   ]
  },
  {
   "cell_type": "code",
   "execution_count": null,
   "metadata": {},
   "outputs": [],
   "source": [
    "batt.describe()"
   ]
  },
  {
   "cell_type": "code",
   "execution_count": null,
   "metadata": {
    "scrolled": true
   },
   "outputs": [],
   "source": [
    "#Time series\n",
    "batt_ts = batt.plot(x='Date', y=ylist)"
   ]
  },
  {
   "cell_type": "code",
   "execution_count": null,
   "metadata": {},
   "outputs": [],
   "source": [
    "#Linear regression\n",
    "sns.regplot(x='Price',y=\"Positivity\",data=batt)"
   ]
  },
  {
   "cell_type": "code",
   "execution_count": null,
   "metadata": {},
   "outputs": [],
   "source": [
    "#Linear regression\n",
    "sns.regplot(x='Subjectivity',y=\"Positivity\",data=batt)"
   ]
  },
  {
   "cell_type": "code",
   "execution_count": null,
   "metadata": {},
   "outputs": [],
   "source": [
    "#Histogram\n",
    "sns.set(rc={'figure.figsize':(20,8)})\n",
    "ax = sns.countplot(batt['Positivity'])\n",
    "x=[-1,-.75,-5,-.25,0,.25,.5,.75,1]\n",
    "tick_spacing = 3\n",
    "ax.xaxis.set_major_locator(ticker.MultipleLocator(tick_spacing))\n",
    "ax.set_xticklabels(ax.get_xticklabels(), rotation=40, ha='right')\n",
    "plt.show()"
   ]
  },
  {
   "cell_type": "code",
   "execution_count": null,
   "metadata": {},
   "outputs": [],
   "source": [
    "#Histogram\n",
    "sns.set(rc={'figure.figsize':(20,8)})\n",
    "ax = sns.countplot(batt['Subjectivity'])\n",
    "x=[-1,-.75,-5,-.25,0,.25,.5,.75,1]\n",
    "tick_spacing = 3\n",
    "ax.xaxis.set_major_locator(ticker.MultipleLocator(tick_spacing))\n",
    "ax.set_xticklabels(ax.get_xticklabels(), rotation=40, ha='right')\n",
    "plt.show()"
   ]
  },
  {
   "cell_type": "code",
   "execution_count": null,
   "metadata": {},
   "outputs": [],
   "source": [
    "num_features = ['Price', 'Rating', 'Positivity', 'Subjectivity']\n",
    "X = batt[num_features].values\n",
    "visualizer = Rank2D(features=num_features, algorithm='pearson')\n",
    "visualizer.fit(X)                # Fit the data to the visualizer\n",
    "visualizer.transform(X)             # Transform the data\n",
    "#visualizer.poof(outpath=\"c://soft.png\") # Draw/show/poof the data"
   ]
  },
  {
   "cell_type": "code",
   "execution_count": null,
   "metadata": {},
   "outputs": [],
   "source": [
    "#Finding out R2 info.\n",
    "r, p = scipy.stats.pearsonr(batt['Rating'],batt['Positivity']) #Pearson's R coefficient\n",
    "print(\"Rating/Positivity R is: \"+str(round(r, 3)))\n",
    "print(\"Rating/Positivity Probability is: \"+str(round(p, 3)))\n",
    "#Between Positivity and Subjectivity\n",
    "r, p = scipy.stats.pearsonr(batt['Subjectivity'],batt['Positivity']) #Pearson's R coefficient\n",
    "print(\"Subjectivity/Positivity R is: \"+str(round(r, 3)))\n",
    "print(\"Subjectivity/Positivity Probability is: \"+str(round(p, 3)))\n",
    "#Between Rating and Subjectivity\n",
    "r, p = scipy.stats.pearsonr(batt['Rating'],batt['Subjectivity']) #Pearson's R coefficient\n",
    "print(\"Subjectivity/Rating R is: \"+str(round(r, 3)))\n",
    "print(\"Subjectivity/Rating Probability is: \"+str(round(p, 3)))"
   ]
  },
  {
   "cell_type": "markdown",
   "metadata": {},
   "source": [
    "# Camera"
   ]
  },
  {
   "cell_type": "code",
   "execution_count": null,
   "metadata": {},
   "outputs": [],
   "source": [
    "#Adding sentiment analysis and slicing the positivity/negativity scores columns.\n",
    "came['Score'] = came['Review'].apply(ss)\n",
    "came['Positivity'] = came['Score'].apply(lambda x:x[0])\n",
    "came['Subjectivity'] = came['Score'].apply(lambda x:x[1])\n",
    "came['Topic'] = 'Camera'\n",
    "came.sample(n=2)"
   ]
  },
  {
   "cell_type": "code",
   "execution_count": null,
   "metadata": {},
   "outputs": [],
   "source": [
    "came.describe()"
   ]
  },
  {
   "cell_type": "code",
   "execution_count": null,
   "metadata": {},
   "outputs": [],
   "source": [
    "#Time series\n",
    "came_ts = came.plot(x='Date', y=ylist)"
   ]
  },
  {
   "cell_type": "code",
   "execution_count": null,
   "metadata": {
    "scrolled": true
   },
   "outputs": [],
   "source": [
    "#Linear regression\n",
    "sns.regplot(x='Price',y=\"Positivity\",data=came)"
   ]
  },
  {
   "cell_type": "code",
   "execution_count": null,
   "metadata": {},
   "outputs": [],
   "source": [
    "#Linear regression\n",
    "sns.regplot(x='Subjectivity',y=\"Positivity\",data=came)"
   ]
  },
  {
   "cell_type": "code",
   "execution_count": null,
   "metadata": {
    "scrolled": true
   },
   "outputs": [],
   "source": [
    "#Histogram\n",
    "sns.set(rc={'figure.figsize':(20,8)})\n",
    "ax = sns.countplot(came['Positivity'])\n",
    "x=[-1,-.75,-5,-.25,0,.25,.5,.75,1]\n",
    "tick_spacing = 3\n",
    "ax.xaxis.set_major_locator(ticker.MultipleLocator(tick_spacing))\n",
    "ax.set_xticklabels(ax.get_xticklabels(), rotation=40, ha='right')\n",
    "plt.show()"
   ]
  },
  {
   "cell_type": "code",
   "execution_count": null,
   "metadata": {},
   "outputs": [],
   "source": [
    "#Histogram\n",
    "sns.set(rc={'figure.figsize':(20,8)})\n",
    "ax = sns.countplot(came['Subjectivity'])\n",
    "x=[-1,-.75,-5,-.25,0,.25,.5,.75,1]\n",
    "tick_spacing = 3\n",
    "ax.xaxis.set_major_locator(ticker.MultipleLocator(tick_spacing))\n",
    "ax.set_xticklabels(ax.get_xticklabels(), rotation=40, ha='right')\n",
    "plt.show()"
   ]
  },
  {
   "cell_type": "code",
   "execution_count": null,
   "metadata": {},
   "outputs": [],
   "source": [
    "num_features = ['Price', 'Rating', 'Positivity', 'Subjectivity']\n",
    "X = came[num_features].values\n",
    "visualizer = Rank2D(features=num_features, algorithm='pearson')\n",
    "visualizer.fit(X)                # Fit the data to the visualizer\n",
    "visualizer.transform(X)             # Transform the data\n",
    "#visualizer.poof(outpath=\"c://soft.png\") # Draw/show/poof the data"
   ]
  },
  {
   "cell_type": "code",
   "execution_count": null,
   "metadata": {},
   "outputs": [],
   "source": [
    "#Finding out R2 info.\n",
    "r, p = scipy.stats.pearsonr(came['Rating'],came['Positivity']) #Pearson's R coefficient\n",
    "print(\"Rating/Positivity R is: \"+str(round(r, 3)))\n",
    "print(\"Rating/Positivity Probability is: \"+str(round(p, 3)))\n",
    "#Between Positivity and Subjectivity\n",
    "r, p = scipy.stats.pearsonr(came['Subjectivity'],came['Positivity']) #Pearson's R coefficient\n",
    "print(\"Subjectivity/Positivity R is: \"+str(round(r, 3)))\n",
    "print(\"Subjectivity/Positivity Probability is: \"+str(round(p, 3)))\n",
    "#Between Rating and Subjectivity\n",
    "r, p = scipy.stats.pearsonr(came['Rating'],came['Subjectivity']) #Pearson's R coefficient\n",
    "print(\"Subjectivity/Rating R is: \"+str(round(r, 3)))\n",
    "print(\"Subjectivity/Rating Probability is: \"+str(round(p, 3)))"
   ]
  },
  {
   "cell_type": "code",
   "execution_count": null,
   "metadata": {
    "scrolled": true
   },
   "outputs": [],
   "source": [
    "with open(\"M4-4.txt\", \"r\"):\n",
    "    print(open(\"M4-4.txt\", \"r\").read())"
   ]
  },
  {
   "cell_type": "markdown",
   "metadata": {},
   "source": [
    "# Speed"
   ]
  },
  {
   "cell_type": "code",
   "execution_count": null,
   "metadata": {},
   "outputs": [],
   "source": [
    "#Adding sentiment analysis and slicing the positivity/negativity scores columns.\n",
    "spee['Score'] = spee['Review'].apply(ss)\n",
    "spee['Positivity'] = spee['Score'].apply(lambda x:x[0])\n",
    "spee['Subjectivity'] = spee['Score'].apply(lambda x:x[1])\n",
    "spee['Topic'] = 'Speed'\n",
    "spee.sample(n=2)"
   ]
  },
  {
   "cell_type": "code",
   "execution_count": null,
   "metadata": {},
   "outputs": [],
   "source": [
    "spee.describe()"
   ]
  },
  {
   "cell_type": "code",
   "execution_count": null,
   "metadata": {
    "scrolled": true
   },
   "outputs": [],
   "source": [
    "#Time series\n",
    "spee_ts = spee.plot(x='Date', y=ylist)"
   ]
  },
  {
   "cell_type": "code",
   "execution_count": null,
   "metadata": {
    "scrolled": true
   },
   "outputs": [],
   "source": [
    "#Linear regression\n",
    "sns.regplot(x='Price',y=\"Positivity\",data=spee)"
   ]
  },
  {
   "cell_type": "code",
   "execution_count": null,
   "metadata": {},
   "outputs": [],
   "source": [
    "#Linear regression\n",
    "sns.regplot(x='Subjectivity',y=\"Positivity\",data=spee)"
   ]
  },
  {
   "cell_type": "code",
   "execution_count": null,
   "metadata": {
    "scrolled": true
   },
   "outputs": [],
   "source": [
    "#Histogram\n",
    "sns.set(rc={'figure.figsize':(20,8)})\n",
    "ax = sns.countplot(spee['Positivity'])\n",
    "x=[-1,-.75,-5,-.25,0,.25,.5,.75,1]\n",
    "tick_spacing = 3\n",
    "ax.xaxis.set_major_locator(ticker.MultipleLocator(tick_spacing))\n",
    "ax.set_xticklabels(ax.get_xticklabels(), rotation=40, ha='right')\n",
    "plt.show()"
   ]
  },
  {
   "cell_type": "code",
   "execution_count": null,
   "metadata": {},
   "outputs": [],
   "source": [
    "#Histogram\n",
    "sns.set(rc={'figure.figsize':(20,8)})\n",
    "ax = sns.countplot(spee['Subjectivity'])\n",
    "x=[-1,-.75,-5,-.25,0,.25,.5,.75,1]\n",
    "tick_spacing = 3\n",
    "ax.xaxis.set_major_locator(ticker.MultipleLocator(tick_spacing))\n",
    "ax.set_xticklabels(ax.get_xticklabels(), rotation=40, ha='right')\n",
    "plt.show()"
   ]
  },
  {
   "cell_type": "code",
   "execution_count": null,
   "metadata": {},
   "outputs": [],
   "source": [
    "num_features = ['Price', 'Rating', 'Positivity', 'Subjectivity']\n",
    "X = spee[num_features].values\n",
    "visualizer = Rank2D(features=num_features, algorithm='pearson')\n",
    "visualizer.fit(X)                # Fit the data to the visualizer\n",
    "visualizer.transform(X)             # Transform the data\n",
    "#visualizer.poof(outpath=\"c://soft.png\") # Draw/show/poof the data"
   ]
  },
  {
   "cell_type": "code",
   "execution_count": null,
   "metadata": {},
   "outputs": [],
   "source": [
    "#Finding out R2 info.\n",
    "r, p = scipy.stats.pearsonr(spee['Rating'],spee['Positivity']) #Pearson's R coefficient\n",
    "print(\"Rating/Positivity R is: \"+str(round(r, 3)))\n",
    "print(\"Rating/Positivity Probability is: \"+str(round(p, 3)))\n",
    "#Between Positivity and Subjectivity\n",
    "r, p = scipy.stats.pearsonr(spee['Subjectivity'],spee['Positivity']) #Pearson's R coefficient\n",
    "print(\"Subjectivity/Positivity R is: \"+str(round(r, 3)))\n",
    "print(\"Subjectivity/Positivity Probability is: \"+str(round(p, 3)))\n",
    "#Between Rating and Subjectivity\n",
    "r, p = scipy.stats.pearsonr(spee['Rating'],spee['Subjectivity']) #Pearson's R coefficient\n",
    "print(\"Subjectivity/Rating R is: \"+str(round(r, 3)))\n",
    "print(\"Subjectivity/Rating Probability is: \"+str(round(p, 3)))"
   ]
  },
  {
   "cell_type": "code",
   "execution_count": null,
   "metadata": {},
   "outputs": [],
   "source": [
    "with open(\"M4-5.txt\", \"r\"):\n",
    "    print(open(\"M4-5.txt\", \"r\").read())"
   ]
  },
  {
   "cell_type": "markdown",
   "metadata": {},
   "source": [
    "# Storage"
   ]
  },
  {
   "cell_type": "code",
   "execution_count": null,
   "metadata": {
    "scrolled": true
   },
   "outputs": [],
   "source": [
    "#Adding sentiment analysis and slicing the positivity/negativity scores columns.\n",
    "stor['Score'] = stor['Review'].apply(ss)\n",
    "stor['Positivity'] = stor['Score'].apply(lambda x:x[0])\n",
    "stor['Subjectivity'] = stor['Score'].apply(lambda x:x[1])\n",
    "stor['Topic'] = 'Storage'\n",
    "stor.sample(n=2)"
   ]
  },
  {
   "cell_type": "code",
   "execution_count": null,
   "metadata": {},
   "outputs": [],
   "source": [
    "stor.describe()"
   ]
  },
  {
   "cell_type": "code",
   "execution_count": null,
   "metadata": {
    "scrolled": true
   },
   "outputs": [],
   "source": [
    "#Time series\n",
    "stor_ts = stor.plot(x='Date', y=ylist)"
   ]
  },
  {
   "cell_type": "code",
   "execution_count": null,
   "metadata": {
    "scrolled": true
   },
   "outputs": [],
   "source": [
    "#Linear regression\n",
    "sns.regplot(x='Price',y=\"Positivity\",data=stor)"
   ]
  },
  {
   "cell_type": "code",
   "execution_count": null,
   "metadata": {},
   "outputs": [],
   "source": [
    "#Linear regression\n",
    "sns.regplot(x='Subjectivity',y=\"Positivity\",data=stor)"
   ]
  },
  {
   "cell_type": "code",
   "execution_count": null,
   "metadata": {},
   "outputs": [],
   "source": [
    "#Histogram\n",
    "sns.set(rc={'figure.figsize':(20,8)})\n",
    "ax = sns.countplot(stor['Positivity'])\n",
    "x=[-1,-.75,-5,-.25,0,.25,.5,.75,1]\n",
    "tick_spacing = 3\n",
    "ax.xaxis.set_major_locator(ticker.MultipleLocator(tick_spacing))\n",
    "ax.set_xticklabels(ax.get_xticklabels(), rotation=40, ha='right')\n",
    "plt.show()"
   ]
  },
  {
   "cell_type": "code",
   "execution_count": null,
   "metadata": {
    "scrolled": true
   },
   "outputs": [],
   "source": [
    "#Histogram\n",
    "sns.set(rc={'figure.figsize':(20,8)})\n",
    "ax = sns.countplot(stor['Subjectivity'])\n",
    "x=[-1,-.75,-5,-.25,0,.25,.5,.75,1]\n",
    "tick_spacing = 3\n",
    "ax.xaxis.set_major_locator(ticker.MultipleLocator(tick_spacing))\n",
    "ax.set_xticklabels(ax.get_xticklabels(), rotation=40, ha='right')\n",
    "plt.show()"
   ]
  },
  {
   "cell_type": "code",
   "execution_count": null,
   "metadata": {},
   "outputs": [],
   "source": [
    "num_features = ['Price', 'Rating', 'Positivity', 'Subjectivity']\n",
    "X = stor[num_features].values\n",
    "visualizer = Rank2D(features=num_features, algorithm='pearson')\n",
    "visualizer.fit(X)                # Fit the data to the visualizer\n",
    "visualizer.transform(X)             # Transform the data\n",
    "#visualizer.poof(outpath=\"c://soft.png\") # Draw/show/poof the data"
   ]
  },
  {
   "cell_type": "code",
   "execution_count": null,
   "metadata": {},
   "outputs": [],
   "source": [
    "#Finding out R2 info.\n",
    "r, p = scipy.stats.pearsonr(stor['Rating'],stor['Positivity']) #Pearson's R coefficient\n",
    "print(\"Rating/Positivity R is: \"+str(round(r, 3)))\n",
    "print(\"Rating/Positivity Probability is: \"+str(round(p, 3)))\n",
    "#Between Positivity and Subjectivity\n",
    "r, p = scipy.stats.pearsonr(stor['Subjectivity'],stor['Positivity']) #Pearson's R coefficient\n",
    "print(\"Subjectivity/Positivity R is: \"+str(round(r, 3)))\n",
    "print(\"Subjectivity/Positivity Probability is: \"+str(round(p, 3)))\n",
    "#Between Rating and Subjectivity\n",
    "r, p = scipy.stats.pearsonr(stor['Rating'],stor['Subjectivity']) #Pearson's R coefficient\n",
    "print(\"Subjectivity/Rating R is: \"+str(round(r, 3)))\n",
    "print(\"Subjectivity/Rating Probability is: \"+str(round(p, 3)))"
   ]
  },
  {
   "cell_type": "code",
   "execution_count": null,
   "metadata": {},
   "outputs": [],
   "source": [
    "with open(\"M4-6.txt\", \"r\"):\n",
    "    print(open(\"M4-6.txt\", \"r\").read())"
   ]
  },
  {
   "cell_type": "markdown",
   "metadata": {},
   "source": [
    "# Software"
   ]
  },
  {
   "cell_type": "code",
   "execution_count": null,
   "metadata": {},
   "outputs": [],
   "source": [
    "#Adding sentiment analysis and slicing the positivity/negativity scores columns.\n",
    "soft['Score'] = soft['Review'].apply(ss)\n",
    "soft['Positivity'] = soft['Score'].apply(lambda x:x[0])\n",
    "soft['Subjectivity'] = soft['Score'].apply(lambda x:x[1])\n",
    "soft['Topic'] = 'Storage'\n",
    "soft.sample(n=2)"
   ]
  },
  {
   "cell_type": "code",
   "execution_count": null,
   "metadata": {},
   "outputs": [],
   "source": [
    "soft.describe()"
   ]
  },
  {
   "cell_type": "code",
   "execution_count": null,
   "metadata": {
    "scrolled": true
   },
   "outputs": [],
   "source": [
    "#Time series\n",
    "soft_ts = soft.plot(x='Date', y=ylist)"
   ]
  },
  {
   "cell_type": "code",
   "execution_count": null,
   "metadata": {},
   "outputs": [],
   "source": [
    "#Linear regression\n",
    "sns.regplot(x='Price',y=\"Positivity\",data=soft)"
   ]
  },
  {
   "cell_type": "code",
   "execution_count": null,
   "metadata": {},
   "outputs": [],
   "source": [
    "#Linear regression\n",
    "sns.regplot(x='Subjectivity',y=\"Positivity\",data=soft)"
   ]
  },
  {
   "cell_type": "code",
   "execution_count": null,
   "metadata": {},
   "outputs": [],
   "source": [
    "#Histogram\n",
    "sns.set(rc={'figure.figsize':(20,8)})\n",
    "ax = sns.countplot(soft['Positivity'])\n",
    "x=[-1,-.75,-5,-.25,0,.25,.5,.75,1]\n",
    "tick_spacing = 3\n",
    "ax.xaxis.set_major_locator(ticker.MultipleLocator(tick_spacing))\n",
    "ax.set_xticklabels(ax.get_xticklabels(), rotation=40, ha='right')\n",
    "plt.show()"
   ]
  },
  {
   "cell_type": "code",
   "execution_count": null,
   "metadata": {},
   "outputs": [],
   "source": [
    "#Histogram\n",
    "sns.set(rc={'figure.figsize':(20,8)})\n",
    "ax = sns.countplot(soft['Subjectivity'])\n",
    "x=[-1,-.75,-5,-.25,0,.25,.5,.75,1]\n",
    "tick_spacing = 3\n",
    "ax.xaxis.set_major_locator(ticker.MultipleLocator(tick_spacing))\n",
    "ax.set_xticklabels(ax.get_xticklabels(), rotation=40, ha='right')\n",
    "plt.show()"
   ]
  },
  {
   "cell_type": "code",
   "execution_count": null,
   "metadata": {},
   "outputs": [],
   "source": [
    "num_features = ['Price', 'Rating', 'Positivity', 'Subjectivity']\n",
    "X = soft[num_features].values\n",
    "visualizer = Rank2D(features=num_features, algorithm='pearson')\n",
    "visualizer.fit(X)                # Fit the data to the visualizer\n",
    "visualizer.transform(X)             # Transform the data\n",
    "#visualizer.poof(outpath=\"c://soft.png\") # Draw/show/poof the data"
   ]
  },
  {
   "cell_type": "code",
   "execution_count": null,
   "metadata": {},
   "outputs": [],
   "source": [
    "#Finding out R2 info.\n",
    "r, p = scipy.stats.pearsonr(soft['Rating'],soft['Positivity']) #Pearson's R coefficient\n",
    "print(\"Rating/Positivity R is: \"+str(round(r, 3)))\n",
    "print(\"Rating/Positivity Probability is: \"+str(round(p, 3)))\n",
    "#Between Positivity and Subjectivity\n",
    "r, p = scipy.stats.pearsonr(soft['Subjectivity'],soft['Positivity']) #Pearson's R coefficient\n",
    "print(\"Subjectivity/Positivity R is: \"+str(round(r, 3)))\n",
    "print(\"Subjectivity/Positivity Probability is: \"+str(round(p, 3)))\n",
    "#Between Rating and Subjectivity\n",
    "r, p = scipy.stats.pearsonr(soft['Rating'],soft['Subjectivity']) #Pearson's R coefficient\n",
    "print(\"Subjectivity/Rating R is: \"+str(round(r, 3)))\n",
    "print(\"Subjectivity/Rating Probability is: \"+str(round(p, 3)))"
   ]
  },
  {
   "cell_type": "code",
   "execution_count": null,
   "metadata": {},
   "outputs": [],
   "source": [
    "with open(\"M4-7.txt\", \"r\"):\n",
    "    print(open(\"M4-7.txt\", \"r\").read())"
   ]
  },
  {
   "cell_type": "markdown",
   "metadata": {},
   "source": [
    "# Music"
   ]
  },
  {
   "cell_type": "code",
   "execution_count": null,
   "metadata": {
    "scrolled": true
   },
   "outputs": [],
   "source": [
    "#Adding sentiment analysis and slicing the positivity/negativity scores columns.\n",
    "musi['Score'] = musi['Review'].apply(ss)\n",
    "musi['Positivity'] = musi['Score'].apply(lambda x:x[0])\n",
    "musi['Subjectivity'] = musi['Score'].apply(lambda x:x[1])\n",
    "musi['Topic'] = 'Music'\n",
    "musi.sample(n=2)"
   ]
  },
  {
   "cell_type": "code",
   "execution_count": null,
   "metadata": {},
   "outputs": [],
   "source": [
    "musi.describe()"
   ]
  },
  {
   "cell_type": "code",
   "execution_count": null,
   "metadata": {},
   "outputs": [],
   "source": [
    "#Time series\n",
    "musi_ts = musi.plot(x='Date', y=ylist)"
   ]
  },
  {
   "cell_type": "code",
   "execution_count": null,
   "metadata": {},
   "outputs": [],
   "source": [
    "#Linear regression\n",
    "sns.regplot(x='Price',y=\"Positivity\",data=musi)"
   ]
  },
  {
   "cell_type": "code",
   "execution_count": null,
   "metadata": {},
   "outputs": [],
   "source": [
    "#Linear regression\n",
    "sns.regplot(x='Subjectivity',y=\"Positivity\",data=musi)"
   ]
  },
  {
   "cell_type": "code",
   "execution_count": null,
   "metadata": {
    "scrolled": true
   },
   "outputs": [],
   "source": [
    "#Histogram\n",
    "sns.set(rc={'figure.figsize':(20,8)})\n",
    "ax = sns.countplot(musi['Positivity'])\n",
    "x=[-1,-.75,-5,-.25,0,.25,.5,.75,1]\n",
    "tick_spacing = 3\n",
    "ax.xaxis.set_major_locator(ticker.MultipleLocator(tick_spacing))\n",
    "ax.set_xticklabels(ax.get_xticklabels(), rotation=40, ha='right')\n",
    "plt.show()"
   ]
  },
  {
   "cell_type": "code",
   "execution_count": null,
   "metadata": {},
   "outputs": [],
   "source": [
    "#Histogram\n",
    "sns.set(rc={'figure.figsize':(20,8)})\n",
    "ax = sns.countplot(musi['Subjectivity'])\n",
    "x=[-1,-.75,-5,-.25,0,.25,.5,.75,1]\n",
    "tick_spacing = 3\n",
    "ax.xaxis.set_major_locator(ticker.MultipleLocator(tick_spacing))\n",
    "ax.set_xticklabels(ax.get_xticklabels(), rotation=40, ha='right')\n",
    "plt.show()"
   ]
  },
  {
   "cell_type": "code",
   "execution_count": null,
   "metadata": {},
   "outputs": [],
   "source": [
    "num_features = ['Price', 'Rating', 'Positivity', 'Subjectivity']\n",
    "X = musi[num_features].values\n",
    "visualizer = Rank2D(features=num_features, algorithm='pearson')\n",
    "visualizer.fit(X)                # Fit the data to the visualizer\n",
    "visualizer.transform(X)             # Transform the data\n",
    "#visualizer.poof(outpath=\"c://soft.png\") # Draw/show/poof the data"
   ]
  },
  {
   "cell_type": "code",
   "execution_count": null,
   "metadata": {},
   "outputs": [],
   "source": [
    "#Finding out R2 info.\n",
    "r, p = scipy.stats.pearsonr(musi['Rating'],musi['Positivity']) #Pearson's R coefficient\n",
    "print(\"Rating/Positivity R is: \"+str(round(r, 3)))\n",
    "print(\"Rating/Positivity Probability is: \"+str(round(p, 3)))\n",
    "#Between Positivity and Subjectivity\n",
    "r, p = scipy.stats.pearsonr(musi['Subjectivity'],musi['Positivity']) #Pearson's R coefficient\n",
    "print(\"Subjectivity/Positivity R is: \"+str(round(r, 3)))\n",
    "print(\"Subjectivity/Positivity Probability is: \"+str(round(p, 3)))\n",
    "#Between Rating and Subjectivity\n",
    "r, p = scipy.stats.pearsonr(musi['Rating'],musi['Subjectivity']) #Pearson's R coefficient\n",
    "print(\"Subjectivity/Rating R is: \"+str(round(r, 3)))\n",
    "print(\"Subjectivity/Rating Probability is: \"+str(round(p, 3)))"
   ]
  },
  {
   "cell_type": "code",
   "execution_count": null,
   "metadata": {},
   "outputs": [],
   "source": [
    "with open(\"M4-8.txt\", \"r\"):\n",
    "    print(open(\"M4-8.txt\", \"r\").read())"
   ]
  },
  {
   "cell_type": "markdown",
   "metadata": {},
   "source": [
    "# Screen"
   ]
  },
  {
   "cell_type": "code",
   "execution_count": null,
   "metadata": {},
   "outputs": [],
   "source": [
    "#Adding sentiment analysis and slicing the positivity/negativity scores columns.\n",
    "scre['Score'] = scre['Review'].apply(ss)\n",
    "scre['Positivity'] = scre['Score'].apply(lambda x:x[0])\n",
    "scre['Subjectivity'] = scre['Score'].apply(lambda x:x[1])\n",
    "scre['Topic'] = 'Screen'\n",
    "scre.sample(n=2)"
   ]
  },
  {
   "cell_type": "code",
   "execution_count": null,
   "metadata": {},
   "outputs": [],
   "source": [
    "scre.describe()"
   ]
  },
  {
   "cell_type": "code",
   "execution_count": null,
   "metadata": {
    "scrolled": true
   },
   "outputs": [],
   "source": [
    "#Time series\n",
    "scre_ts = scre.plot(x='Date', y=ylist)"
   ]
  },
  {
   "cell_type": "code",
   "execution_count": null,
   "metadata": {},
   "outputs": [],
   "source": [
    "#Linear regression\n",
    "sns.regplot(x='Price',y=\"Positivity\",data=scre)"
   ]
  },
  {
   "cell_type": "code",
   "execution_count": null,
   "metadata": {},
   "outputs": [],
   "source": [
    "#Linear regression\n",
    "sns.regplot(x='Subjectivity',y=\"Positivity\",data=scre)"
   ]
  },
  {
   "cell_type": "code",
   "execution_count": null,
   "metadata": {
    "scrolled": true
   },
   "outputs": [],
   "source": [
    "#Histogram\n",
    "sns.set(rc={'figure.figsize':(20,8)})\n",
    "ax = sns.countplot(scre['Positivity'])\n",
    "x=[-1,-.75,-5,-.25,0,.25,.5,.75,1]\n",
    "tick_spacing = 3\n",
    "ax.xaxis.set_major_locator(ticker.MultipleLocator(tick_spacing))\n",
    "ax.set_xticklabels(ax.get_xticklabels(), rotation=40, ha='right')\n",
    "plt.show()"
   ]
  },
  {
   "cell_type": "code",
   "execution_count": null,
   "metadata": {},
   "outputs": [],
   "source": [
    "#Histogram\n",
    "sns.set(rc={'figure.figsize':(20,8)})\n",
    "ax = sns.countplot(scre['Subjectivity'])\n",
    "x=[-1,-.75,-5,-.25,0,.25,.5,.75,1]\n",
    "tick_spacing = 3\n",
    "ax.xaxis.set_major_locator(ticker.MultipleLocator(tick_spacing))\n",
    "ax.set_xticklabels(ax.get_xticklabels(), rotation=40, ha='right')\n",
    "plt.show()"
   ]
  },
  {
   "cell_type": "code",
   "execution_count": null,
   "metadata": {},
   "outputs": [],
   "source": [
    "num_features = ['Price', 'Rating', 'Positivity', 'Subjectivity']\n",
    "X = scre[num_features].values\n",
    "visualizer = Rank2D(features=num_features, algorithm='pearson')\n",
    "visualizer.fit(X)                # Fit the data to the visualizer\n",
    "visualizer.transform(X)             # Transform the data\n",
    "#visualizer.poof(outpath=\"c://soft.png\") # Draw/show/poof the data"
   ]
  },
  {
   "cell_type": "code",
   "execution_count": null,
   "metadata": {},
   "outputs": [],
   "source": [
    "#Finding out R2 info.\n",
    "r, p = scipy.stats.pearsonr(scre['Rating'],scre['Positivity']) #Pearson's R coefficient\n",
    "print(\"Rating/Positivity R is: \"+str(round(r, 3)))\n",
    "print(\"Rating/Positivity Probability is: \"+str(round(p, 3)))\n",
    "#Between Positivity and Subjectivity\n",
    "r, p = scipy.stats.pearsonr(scre['Subjectivity'],scre['Positivity']) #Pearson's R coefficient\n",
    "print(\"Subjectivity/Positivity R is: \"+str(round(r, 3)))\n",
    "print(\"Subjectivity/Positivity Probability is: \"+str(round(p, 3)))\n",
    "#Between Rating and Subjectivity\n",
    "r, p = scipy.stats.pearsonr(scre['Rating'],scre['Subjectivity']) #Pearson's R coefficient\n",
    "print(\"Subjectivity/Rating R is: \"+str(round(r, 3)))\n",
    "print(\"Subjectivity/Rating Probability is: \"+str(round(p, 3)))"
   ]
  },
  {
   "cell_type": "code",
   "execution_count": null,
   "metadata": {},
   "outputs": [],
   "source": [
    "with open(\"M4-9.txt\", \"r\"):\n",
    "    print(open(\"M4-9.txt\", \"r\").read())"
   ]
  },
  {
   "cell_type": "markdown",
   "metadata": {},
   "source": [
    "# Merging the dataframes together again."
   ]
  },
  {
   "cell_type": "code",
   "execution_count": null,
   "metadata": {},
   "outputs": [],
   "source": [
    "#Merging the dataframes in one..\n",
    "a_df = [appe, batt, came, spee, stor, soft, musi, scre]\n",
    "a_df = pd.concat(a_df, axis=0, join='inner').reset_index()"
   ]
  },
  {
   "cell_type": "code",
   "execution_count": null,
   "metadata": {},
   "outputs": [],
   "source": [
    "a_df.sample(n=2)"
   ]
  },
  {
   "cell_type": "code",
   "execution_count": null,
   "metadata": {},
   "outputs": [],
   "source": [
    "a_df.describe()"
   ]
  },
  {
   "cell_type": "code",
   "execution_count": null,
   "metadata": {},
   "outputs": [],
   "source": [
    "#Time series info\n",
    "a_df_ts = a_df.plot(x='Date', y=ylist)"
   ]
  },
  {
   "cell_type": "code",
   "execution_count": null,
   "metadata": {},
   "outputs": [],
   "source": [
    "#Time series info\n",
    "# ylist2 = ['appe','batte','soft','came','musi','spee', 'scre', 'stor']\n",
    "# a_df_ts = a_df.plot(x='Date', y=ylist2)\n",
    "sns.lineplot(data=a_df,x='Date',y=\"Positivity\",hue=\"Topic\",palette='bright',lw=1)"
   ]
  },
  {
   "cell_type": "code",
   "execution_count": null,
   "metadata": {},
   "outputs": [],
   "source": [
    "#Linear regression\n",
    "sns.regplot(x='Price',y=\"Positivity\",data=a_df)"
   ]
  },
  {
   "cell_type": "code",
   "execution_count": null,
   "metadata": {},
   "outputs": [],
   "source": [
    "#Linear regression\n",
    "sns.regplot(x='Price',y=\"Subjectivity\",data=a_df)"
   ]
  },
  {
   "cell_type": "code",
   "execution_count": null,
   "metadata": {},
   "outputs": [],
   "source": [
    "#Linear regression\n",
    "sns.regplot(x='Subjectivity',y=\"Positivity\",data=a_df)"
   ]
  },
  {
   "cell_type": "code",
   "execution_count": null,
   "metadata": {},
   "outputs": [],
   "source": [
    "#Histogram\n",
    "sns.set(rc={'figure.figsize':(20,8)})\n",
    "ax = sns.countplot(a_df['Positivity'])\n",
    "x=[-1,-.75,-5,-.25,0,.25,.5,.75,1]\n",
    "tick_spacing = 10\n",
    "ax.xaxis.set_major_locator(ticker.MultipleLocator(tick_spacing))\n",
    "ax.set_xticklabels(ax.get_xticklabels(), rotation=40, ha='right')\n",
    "plt.show()"
   ]
  },
  {
   "cell_type": "code",
   "execution_count": null,
   "metadata": {},
   "outputs": [],
   "source": [
    "#Histogram\n",
    "sns.set(rc={'figure.figsize':(20,8)})\n",
    "ax = sns.countplot(a_df['Subjectivity'])\n",
    "x=[-1,-.75,-5,-.25,0,.25,.5,.75,1]\n",
    "tick_spacing = 10\n",
    "ax.xaxis.set_major_locator(ticker.MultipleLocator(tick_spacing))\n",
    "ax.set_xticklabels(ax.get_xticklabels(), rotation=40, ha='right')\n",
    "plt.show()"
   ]
  },
  {
   "cell_type": "code",
   "execution_count": null,
   "metadata": {},
   "outputs": [],
   "source": [
    "#Correlation map\n",
    "num_features = ['Price', 'Rating', 'Positivity', 'Subjectivity']\n",
    "X = a_df[num_features].values\n",
    "visualizer = Rank2D(features=num_features, algorithm='pearson')\n",
    "visualizer.fit(X)                # Fit the data to the visualizer\n",
    "visualizer.transform(X)             # Transform the data\n",
    "#visualizer.poof(outpath=\"c://adf.png\") # Draw/show/poof the data"
   ]
  },
  {
   "cell_type": "code",
   "execution_count": null,
   "metadata": {},
   "outputs": [],
   "source": [
    "#Finding out R2 info.\n",
    "r, p = scipy.stats.pearsonr(a_df['Rating'],a_df['Positivity']) #Pearson's R coefficient\n",
    "print(\"Rating/Positivity R is: \"+str(round(r, 3)))\n",
    "print(\"Rating/Positivity Probability is: \"+str(round(p, 3)))\n",
    "#Between Positivity and Subjectivity\n",
    "r, p = scipy.stats.pearsonr(a_df['Subjectivity'],a_df['Positivity']) #Pearson's R coefficient\n",
    "print(\"Subjectivity/Positivity R is: \"+str(round(r, 3)))\n",
    "print(\"Subjectivity/Positivity Probability is: \"+str(round(p, 3)))\n",
    "#Between Rating and Subjectivity\n",
    "r, p = scipy.stats.pearsonr(a_df['Rating'],a_df['Subjectivity']) #Pearson's R coefficient\n",
    "print(\"Subjectivity/Rating R is: \"+str(round(r, 3)))\n",
    "print(\"Subjectivity/Rating Probability is: \"+str(round(p, 3)))"
   ]
  },
  {
   "cell_type": "code",
   "execution_count": null,
   "metadata": {
    "scrolled": false
   },
   "outputs": [],
   "source": [
    "sns.set(rc={'figure.figsize':(16,11)})\n",
    "sns.boxplot(x=\"Topic\", y='Positivity', data=a_df, showmeans=True, meanprops={\"marker\":\"o\",\n",
    "                       \"markerfacecolor\":\"white\", \n",
    "                       \"markeredgecolor\":\"black\",\n",
    "                      \"markersize\":\"8\"})"
   ]
  },
  {
   "cell_type": "code",
   "execution_count": null,
   "metadata": {
    "scrolled": true
   },
   "outputs": [],
   "source": [
    "name = ['Appearance','Battery','Camera','Speed','Storage','Software','Music','Screen']\n",
    "topic = [appe,batt,came,spee,stor,soft,musi,scre]\n",
    "for x, y in zip(topic,name):\n",
    "    print (\"The Positivity Mean of \"+ y + \" is: \"+ str(round(x['Positivity'].mean(), 3)))"
   ]
  },
  {
   "cell_type": "code",
   "execution_count": null,
   "metadata": {},
   "outputs": [],
   "source": [
    "with open(\"M4-10.txt\", \"r\"):\n",
    "    print(open(\"M4-10.txt\", \"r\").read())"
   ]
  },
  {
   "cell_type": "code",
   "execution_count": null,
   "metadata": {},
   "outputs": [],
   "source": [
    "a_df.sample(n=2)"
   ]
  },
  {
   "cell_type": "markdown",
   "metadata": {},
   "source": [
    "# Neural Networking "
   ]
  },
  {
   "cell_type": "code",
   "execution_count": null,
   "metadata": {},
   "outputs": [],
   "source": [
    "a_df.head()"
   ]
  },
  {
   "cell_type": "code",
   "execution_count": null,
   "metadata": {
    "scrolled": true
   },
   "outputs": [],
   "source": [
    "#Cleaning the new datasets of columns we no longer need.\n",
    "del a_df['Model']\n",
    "del a_df['index']\n",
    "del a_df['Date']\n",
    "del a_df['Score']\n",
    "del a_df['Brand']\n",
    "del a_df['Reviews']\n",
    "del a_df['Price']\n",
    "del a_df['Rating']\n",
    "del a_df['Review Title']\n",
    "del a_df['Helpful']\n",
    "del a_df['Verified']\n",
    "a_df.sample(n=2)"
   ]
  },
  {
   "cell_type": "code",
   "execution_count": null,
   "metadata": {},
   "outputs": [],
   "source": [
    "corpus = '' #an empty string to update.\n",
    "for idx, value in a_df['Review'].iteritems():\n",
    "    corpus += ' '+value #adding all values to the corpus.\n",
    "corpuswords = text_to_word_sequence(corpus) #Using text to word sequence to isolate the words.\n",
    "wordset = set(corpuswords) #Using a set to remove all duplicates.\n",
    "codedwords = one_hot(corpus,len(wordset)+1) #Encoding all words to individualized numbers."
   ]
  },
  {
   "cell_type": "code",
   "execution_count": null,
   "metadata": {},
   "outputs": [],
   "source": [
    "len(codedwords) == len(corpuswords)\n",
    "#Ensuring the lengths match to prevent errors."
   ]
  },
  {
   "cell_type": "code",
   "execution_count": null,
   "metadata": {},
   "outputs": [],
   "source": [
    "code_dict = {k:v for k,v in zip(corpuswords,codedwords)}\n",
    "#Creating a dictionary to link the words to the codes."
   ]
  },
  {
   "cell_type": "code",
   "execution_count": null,
   "metadata": {},
   "outputs": [],
   "source": [
    "colcodes = []\n",
    "num_codes = []\n",
    "\n",
    "for idx,value in a_df['Review'].iteritems():\n",
    "    valuewords = text_to_word_sequence(value)\n",
    "    codelist = []\n",
    "    for word in valuewords:\n",
    "        code = code_dict[word]\n",
    "        codelist.append(code)\n",
    "    colcodes.append(codelist)\n",
    "    num_codes.append(len(codelist))\n",
    "    \n",
    "print(max(num_codes))\n",
    "a_df['Code'] = colcodes"
   ]
  },
  {
   "cell_type": "code",
   "execution_count": null,
   "metadata": {},
   "outputs": [],
   "source": [
    "a_df_columns = ['Word_'+str(i) for i in range(a_df['Code'].str.len().max())]\n",
    "#Adding a new column for every column up until the maximum amount of codes."
   ]
  },
  {
   "cell_type": "code",
   "execution_count": null,
   "metadata": {},
   "outputs": [],
   "source": [
    "code_df = pd.DataFrame(a_df['Code'].tolist(),columns = a_df_columns)\n",
    "#Adding those columns to the dataframe."
   ]
  },
  {
   "cell_type": "code",
   "execution_count": null,
   "metadata": {
    "scrolled": true
   },
   "outputs": [],
   "source": [
    "code_df.sample(n=2)"
   ]
  },
  {
   "cell_type": "code",
   "execution_count": null,
   "metadata": {},
   "outputs": [],
   "source": [
    "code_df.fillna(0, inplace=True) #Filling all empties with 0s."
   ]
  },
  {
   "cell_type": "code",
   "execution_count": null,
   "metadata": {},
   "outputs": [],
   "source": [
    "code_df['Topic'] = a_df.reset_index()['Topic'] #Readding the categories column."
   ]
  },
  {
   "cell_type": "code",
   "execution_count": null,
   "metadata": {
    "scrolled": true
   },
   "outputs": [],
   "source": [
    "code_df.sample(n=2)"
   ]
  },
  {
   "cell_type": "code",
   "execution_count": null,
   "metadata": {},
   "outputs": [],
   "source": [
    "code_df['Topic'].loc[code_df['Topic']=='Appearance']=1\n",
    "code_df['Topic'].loc[code_df['Topic']=='Battery']=2\n",
    "code_df['Topic'].loc[code_df['Topic']=='Camera']=3\n",
    "code_df['Topic'].loc[code_df['Topic']=='Speed']=4\n",
    "code_df['Topic'].loc[code_df['Topic']=='Storage']=5\n",
    "code_df['Topic'].loc[code_df['Topic']=='Software']=6\n",
    "code_df['Topic'].loc[code_df['Topic']=='Music']=7\n",
    "code_df['Topic'].loc[code_df['Topic']=='Screen']=8\n",
    "#Coding the categories into integers."
   ]
  },
  {
   "cell_type": "code",
   "execution_count": null,
   "metadata": {
    "scrolled": true
   },
   "outputs": [],
   "source": [
    "code_df.sample(n=2)"
   ]
  },
  {
   "cell_type": "code",
   "execution_count": null,
   "metadata": {},
   "outputs": [],
   "source": [
    "X_train, X_test, y_train, y_test = train_test_split(code_df, code_df['Topic'], test_size = 0.20)\n",
    "#Separating the codes into training and test models. The training comprises 20% now."
   ]
  },
  {
   "cell_type": "code",
   "execution_count": null,
   "metadata": {
    "scrolled": true
   },
   "outputs": [],
   "source": [
    "X_train\n",
    "#Examining the training model."
   ]
  },
  {
   "cell_type": "code",
   "execution_count": null,
   "metadata": {},
   "outputs": [],
   "source": [
    "#Scaling and transforming the training and test.\n",
    "scaler.fit(X_train)\n",
    "\n",
    "X_train = scaler.transform(X_train)\n",
    "X_test = scaler.transform(X_test)"
   ]
  },
  {
   "cell_type": "code",
   "execution_count": null,
   "metadata": {},
   "outputs": [],
   "source": [
    "y_train = y_train.astype(int)\n",
    "y_test = y_test.astype(int)\n",
    "#Changing the type to allow for acceptance."
   ]
  },
  {
   "cell_type": "code",
   "execution_count": null,
   "metadata": {},
   "outputs": [],
   "source": [
    "y_train_dummies = pd.get_dummies(y_train)"
   ]
  },
  {
   "cell_type": "code",
   "execution_count": null,
   "metadata": {},
   "outputs": [],
   "source": [
    "y_train_dummies.head()"
   ]
  },
  {
   "cell_type": "code",
   "execution_count": null,
   "metadata": {},
   "outputs": [],
   "source": [
    "nn = MLPClassifier(activation='logistic')\n",
    "#Saving the classifier to a variable."
   ]
  },
  {
   "cell_type": "code",
   "execution_count": null,
   "metadata": {
    "scrolled": true
   },
   "outputs": [],
   "source": [
    "nn.fit(X_train,y_train_dummies) #Fitting the model."
   ]
  },
  {
   "cell_type": "code",
   "execution_count": null,
   "metadata": {},
   "outputs": [],
   "source": [
    "y_pred = nn.predict(X_test)\n",
    "#Predicting the model."
   ]
  },
  {
   "cell_type": "code",
   "execution_count": null,
   "metadata": {},
   "outputs": [],
   "source": [
    "y_pred"
   ]
  },
  {
   "cell_type": "code",
   "execution_count": null,
   "metadata": {},
   "outputs": [],
   "source": [
    "cross_val_score(nn,X_train,y_train)\n",
    "#Evaluating the model."
   ]
  },
  {
   "cell_type": "markdown",
   "metadata": {},
   "source": [
    "# Categorical transformation and hyperparameter tuning"
   ]
  },
  {
   "cell_type": "code",
   "execution_count": null,
   "metadata": {},
   "outputs": [],
   "source": [
    "#Get dummies categorical values binary\n",
    "categorical = ['Topic','Item #']\n",
    "a_df_cat = pd.get_dummies(a_df[categorical],drop_first=True)\n",
    "a_df_cat.head()"
   ]
  },
  {
   "cell_type": "code",
   "execution_count": null,
   "metadata": {},
   "outputs": [],
   "source": [
    "#Listing the columns\n",
    "list(a_df_cat.columns)"
   ]
  },
  {
   "cell_type": "code",
   "execution_count": null,
   "metadata": {},
   "outputs": [],
   "source": [
    "#Getting the list from columns\n",
    "a_df[list(a_df_cat.columns)] = a_df_cat[list(a_df_cat.columns)]"
   ]
  },
  {
   "cell_type": "code",
   "execution_count": null,
   "metadata": {},
   "outputs": [],
   "source": [
    "#Reviewing the new dataset\n",
    "a_df.sample(n=2)"
   ]
  },
  {
   "cell_type": "code",
   "execution_count": null,
   "metadata": {},
   "outputs": [],
   "source": [
    "#Cleaning the new datasets of columns we no longer need.\n",
    "del a_df['Item #']\n",
    "del a_df['Model']\n",
    "del a_df['Review']\n",
    "del a_df['Topic']\n",
    "del a_df['index']\n",
    "del a_df['Date']\n",
    "a_df.sample(n=2)"
   ]
  },
  {
   "cell_type": "code",
   "execution_count": null,
   "metadata": {},
   "outputs": [],
   "source": [
    "del a_df['Score']\n",
    "a_df['Price'] = a_df['Price']/a_df['Price'].max()\n",
    "a_df['Rating'] = a_df['Rating']/a_df['Rating'].max()\n",
    "a_df.head()"
   ]
  },
  {
   "cell_type": "code",
   "execution_count": null,
   "metadata": {},
   "outputs": [],
   "source": [
    "#Creating a list and looping through to format.\n",
    "a_df_list = list(a_df_cat.columns)+['Price',\"Rating\",'Subjectivity']\n",
    "\n",
    "for x in a_df_list:\n",
    "    x = 'a_df[\"'+x+'\"]'"
   ]
  },
  {
   "cell_type": "code",
   "execution_count": null,
   "metadata": {},
   "outputs": [],
   "source": [
    "#Creating a linear regression and conerting the coefficients to a list.\n",
    "regr = linear_model.LinearRegression()\n",
    "regr.fit(a_df[a_df_list], a_df[\"Positivity\"])\n",
    "coef = regr.coef_.tolist()"
   ]
  },
  {
   "cell_type": "code",
   "execution_count": null,
   "metadata": {},
   "outputs": [],
   "source": [
    "#Displaying the results and formatting it to display next to the name of each categorical value.\n",
    "for x,y in zip(a_df_list,coef):\n",
    "    y=str(y)\n",
    "    print(x+\": \"+y)"
   ]
  },
  {
   "cell_type": "code",
   "execution_count": null,
   "metadata": {},
   "outputs": [],
   "source": [
    "max_val=max(coef)\n",
    "min(coef)"
   ]
  },
  {
   "cell_type": "code",
   "execution_count": null,
   "metadata": {},
   "outputs": [],
   "source": [
    "important_features = []\n",
    "\n",
    "for coe,f_name in zip(coef,a_df_list):\n",
    "    if abs(coe) > max_val/1000:\n",
    "        important_features.append(f_name)\n",
    "        \n",
    "print(important_features)"
   ]
  },
  {
   "cell_type": "code",
   "execution_count": null,
   "metadata": {},
   "outputs": [],
   "source": [
    "#Creating a linear regression and conerting the coefficients to a list.\n",
    "regr = linear_model.LinearRegression()\n",
    "regr.fit(a_df[important_features], a_df[\"Positivity\"])\n",
    "coef = regr.coef_.tolist()"
   ]
  },
  {
   "cell_type": "code",
   "execution_count": null,
   "metadata": {},
   "outputs": [],
   "source": [
    "#Displaying the results and formatting it to display next to the name of each categorical value.\n",
    "for x,y in zip(important_features,coef):\n",
    "    y=str(y)\n",
    "    print(x+\": \"+ y)"
   ]
  },
  {
   "cell_type": "code",
   "execution_count": null,
   "metadata": {
    "scrolled": true
   },
   "outputs": [],
   "source": [
    "lasso_model = Lasso(alpha=.001)\n",
    "lasso_model.fit(a_df[a_df_list],a_df['Positivity'])\n",
    "\n",
    "coef = lasso_model.coef_.tolist()\n",
    "for x,y in zip(a_df_list,coef):\n",
    "    y=str(y)\n",
    "    print(x+\": \"+ y)"
   ]
  },
  {
   "cell_type": "code",
   "execution_count": null,
   "metadata": {},
   "outputs": [],
   "source": [
    "#Linear regression\n",
    "sns.regplot(x='Item #_B07RT1X4FJ',y=\"Positivity\",data=a_df)"
   ]
  },
  {
   "cell_type": "code",
   "execution_count": null,
   "metadata": {},
   "outputs": [],
   "source": [
    "#Linear regression\n",
    "sns.regplot(x='Item #_B07KKL5KGG',y=\"Positivity\",data=a_df)"
   ]
  },
  {
   "cell_type": "code",
   "execution_count": null,
   "metadata": {},
   "outputs": [],
   "source": [
    "#Linear regression\n",
    "sns.regplot(x='Item #_B07D6TQP6F',y=\"Positivity\",data=a_df)"
   ]
  },
  {
   "cell_type": "code",
   "execution_count": null,
   "metadata": {},
   "outputs": [],
   "source": [
    "#Linear regression\n",
    "sns.regplot(x='Item #_B079HB518K',y=\"Positivity\",data=a_df)"
   ]
  },
  {
   "cell_type": "code",
   "execution_count": null,
   "metadata": {},
   "outputs": [],
   "source": [
    "#Linear regression\n",
    "sns.regplot(x='Item #_B077578W38',y=\"Positivity\",data=a_df)"
   ]
  },
  {
   "cell_type": "code",
   "execution_count": null,
   "metadata": {},
   "outputs": [],
   "source": [
    "#Linear regression\n",
    "sns.regplot(x='Item #_B07643YNY8',y=\"Positivity\",data=a_df)"
   ]
  },
  {
   "cell_type": "code",
   "execution_count": null,
   "metadata": {},
   "outputs": [],
   "source": [
    "#Linear regression\n",
    "sns.regplot(x='Item #_B0731HBTZ7',y=\"Positivity\",data=a_df)"
   ]
  },
  {
   "cell_type": "code",
   "execution_count": null,
   "metadata": {},
   "outputs": [],
   "source": [
    "#Linear regression\n",
    "sns.regplot(x='Item #_B06XRJXL3R',y=\"Positivity\",data=a_df)"
   ]
  },
  {
   "cell_type": "code",
   "execution_count": null,
   "metadata": {
    "scrolled": true
   },
   "outputs": [],
   "source": [
    "#Linear regression\n",
    "sns.regplot(x='Item #_B06XRG6S73',y=\"Positivity\",data=a_df)"
   ]
  },
  {
   "cell_type": "code",
   "execution_count": null,
   "metadata": {},
   "outputs": [],
   "source": [
    "#Linear regression\n",
    "sns.regplot(x='Item #_B06XR1K6HR',y=\"Positivity\",data=a_df)"
   ]
  },
  {
   "cell_type": "code",
   "execution_count": null,
   "metadata": {},
   "outputs": [],
   "source": [
    "#Linear regression\n",
    "sns.regplot(x='Topic_Storage',y=\"Positivity\",data=a_df)"
   ]
  },
  {
   "cell_type": "code",
   "execution_count": null,
   "metadata": {},
   "outputs": [],
   "source": [
    "#Linear regression\n",
    "sns.regplot(x='Topic_Battery',y=\"Positivity\",data=a_df)"
   ]
  },
  {
   "cell_type": "code",
   "execution_count": null,
   "metadata": {
    "scrolled": true
   },
   "outputs": [],
   "source": [
    "#Linear regression\n",
    "sns.regplot(x='Price',y=\"Positivity\",data=a_df)"
   ]
  },
  {
   "cell_type": "code",
   "execution_count": null,
   "metadata": {},
   "outputs": [],
   "source": [
    "#Linear regression\n",
    "sns.regplot(x='Rating',y=\"Positivity\",data=a_df)"
   ]
  },
  {
   "cell_type": "code",
   "execution_count": null,
   "metadata": {},
   "outputs": [],
   "source": [
    "#Linear regression\n",
    "sns.regplot(x='Subjectivity',y=\"Positivity\",data=a_df)"
   ]
  },
  {
   "cell_type": "code",
   "execution_count": null,
   "metadata": {},
   "outputs": [],
   "source": [
    "LR = LogisticRegression(a_df_list)\n",
    "LR"
   ]
  },
  {
   "cell_type": "code",
   "execution_count": null,
   "metadata": {},
   "outputs": [],
   "source": [
    "with open(\"M4-11.txt\", \"r\"):\n",
    "    print(open(\"M4-11.txt\", \"r\").read())"
   ]
  },
  {
   "cell_type": "markdown",
   "metadata": {},
   "source": [
    "# Conclusion"
   ]
  },
  {
   "cell_type": "code",
   "execution_count": null,
   "metadata": {},
   "outputs": [],
   "source": [
    "#Explanation of project and graphs.\n",
    "with open(\"M4-12.txt\", \"r\"):\n",
    "    print(open(\"M4-12.txt\", \"r\").read())"
   ]
  }
 ],
 "metadata": {
  "kernelspec": {
   "display_name": "Python 3",
   "language": "python",
   "name": "python3"
  },
  "language_info": {
   "codemirror_mode": {
    "name": "ipython",
    "version": 3
   },
   "file_extension": ".py",
   "mimetype": "text/x-python",
   "name": "python",
   "nbconvert_exporter": "python",
   "pygments_lexer": "ipython3",
   "version": "3.8.10"
  }
 },
 "nbformat": 4,
 "nbformat_minor": 4
}
